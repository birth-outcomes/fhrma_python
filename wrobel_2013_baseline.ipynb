{
 "cells": [
  {
   "cell_type": "markdown",
   "metadata": {},
   "source": [
    "# FHR Baseline from Wróbel et al. 2013\n",
    "\n",
    "## Summary\n",
    "\n",
    "This notebook implements the method for FHR baseline calculation from Wróbel et al. 2013, based on the MATLAB implementation in the FHRMA package.\n",
    "\n",
    "The paper: [Wróbel et al. 2013](https://doi.org/10.1016/j.bbe.2013.09.004) - Improving fetal heart rate signal interpretation by application of myriad filtering"
   ]
  },
  {
   "cell_type": "markdown",
   "metadata": {},
   "source": [
    "## Paper description of the method\n",
    "\n",
    "This method uses myriad filtering, with the stated benefit being that it does not require interpolation of signal loss segments (although we have already done that for all FHR records here).\n",
    "\n"
   ]
  },
  {
   "cell_type": "markdown",
   "metadata": {},
   "source": [
    "## Python implementation"
   ]
  },
  {
   "cell_type": "markdown",
   "metadata": {},
   "source": [
    "Import required packages"
   ]
  },
  {
   "cell_type": "code",
   "execution_count": 1,
   "metadata": {},
   "outputs": [],
   "source": [
    "import math\n",
    "import numpy as np\n",
    "import pandas as pd\n",
    "import sys"
   ]
  },
  {
   "cell_type": "markdown",
   "metadata": {},
   "source": [
    "Import functions defined elsewhere"
   ]
  },
  {
   "cell_type": "code",
   "execution_count": 2,
   "metadata": {},
   "outputs": [],
   "source": [
    "sys.path.append('/functions')\n",
    "from functions.load_data import load_data\n",
    "from functions.avg_subsample import avg_subsample\n",
    "from functions.simple_acc_dec_validation import compare_means"
   ]
  },
  {
   "cell_type": "markdown",
   "metadata": {},
   "source": [
    "Import datasets required for running the function and validation"
   ]
  },
  {
   "cell_type": "code",
   "execution_count": 3,
   "metadata": {},
   "outputs": [],
   "source": [
    "raw_fhr, fhrma_base, fhrma_acc, fhrma_dec = load_data(fhrma_path = './data/W_std.mat')"
   ]
  },
  {
   "cell_type": "markdown",
   "metadata": {},
   "source": [
    "Define functions for calculating baseline"
   ]
  },
  {
   "cell_type": "code",
   "execution_count": 4,
   "metadata": {},
   "outputs": [],
   "source": [
    "def myriad(x, k2):\n",
    "    '''\n",
    "    Implements myriad filter, based on myriad() in FHRMA\n",
    "\n",
    "    Parameters\n",
    "    ----------\n",
    "    x : array\n",
    "        Subsample of sfhr\n",
    "    k2 : numeric\n",
    "        Not certain.\n",
    "    '''\n",
    "    # Get min and max of x, and create empty list for length of difference \n",
    "    # between the min and the max, plus 1\n",
    "    ma = round(max(x))\n",
    "    mi = round(min(x))\n",
    "    myrs = np.zeros(ma-mi+1)\n",
    "\n",
    "    # For values of i up to length of myrs, manipulate each value in x, then sum\n",
    "    for i in np.arange(0, len(myrs)):\n",
    "        myrs[i] = sum([math.log(k2+((f-i-mi)**2)) for f in x])\n",
    "\n",
    "    # Get index of minimum\n",
    "    m = np.argmin(myrs)\n",
    "\n",
    "    # Add that index to the minimum value of x (plus 1 as Python is 0-indexed)\n",
    "    m = m + mi + 1\n",
    "\n",
    "    return (m)"
   ]
  },
  {
   "cell_type": "code",
   "execution_count": 5,
   "metadata": {},
   "outputs": [],
   "source": [
    "def wrobel_baseline(fhr):\n",
    "    '''\n",
    "    Calculate FHR baseline using method from Wrobel et al. 2013, as implemented\n",
    "    in MATLAB in the FHRMA toolbox\n",
    "\n",
    "    Parameters\n",
    "    ----------\n",
    "    fhr : array\n",
    "        Cleaned FHR\n",
    "    '''\n",
    "    # Find mean of every 10 records, generating shorter version of FHR (sfhr)\n",
    "    sfhr = avg_subsample(fhr, 10)\n",
    "\n",
    "    # Create array of zeros with same length of sFHR\n",
    "    baseline = np.zeros(len(sfhr))\n",
    "\n",
    "    for i in np.arange(1, len(sfhr)+1):\n",
    "        # wins=161 for i <= 161, and wins=i-160 for i > 162\n",
    "        # wine=i+160 for i < len(sfhr)-160, and wine=len(sfhr) for i >= len(sfhr)-160\n",
    "        # No -1 for wine as MATLAB includes the final index but Python wouldn't\n",
    "        wins = max(1, i-160)-1\n",
    "        wine = min(len(sfhr), i+160)\n",
    "\n",
    "        # Filter to that interval in sfhr, and set value of k2\n",
    "        x = sfhr[wins:wine]\n",
    "        k2 = 0.25\n",
    "\n",
    "        # Set baseline to outcome of myriad function\n",
    "        baseline[i-1] = myriad(x, k2)\n",
    "\n",
    "    # Create array of zeros with length of original FHR\n",
    "    full_baseline = np.zeros(len(fhr))\n",
    "\n",
    "    # Get the index of each item in baseline, and find equivalent for full sequence\n",
    "    indices = np.arange(0, len(baseline))*10\n",
    "    indices[1:]-= 1\n",
    "\n",
    "    # Set values\n",
    "    full_baseline[indices] = baseline\n",
    "\n",
    "    # Perform linear interpolation on the values in between (and not past them)\n",
    "    max_index = (max(indices))+1\n",
    "    full_baseline[:max_index][full_baseline[:max_index] == 0] = np.nan\n",
    "    full_baseline = pd.Series(full_baseline).interpolate(method='linear').values\n",
    "\n",
    "    return(full_baseline)"
   ]
  },
  {
   "cell_type": "markdown",
   "metadata": {},
   "source": [
    "Compare against FHRMA"
   ]
  },
  {
   "cell_type": "code",
   "execution_count": 6,
   "metadata": {},
   "outputs": [
    {
     "name": "stdout",
     "output_type": "stream",
     "text": [
      "train28 match: True\n",
      "test80 match: True\n",
      "test68 match: True\n",
      "train04 match: True\n",
      "train31 match: True\n",
      "train13 match: True\n",
      "train47 match: True\n",
      "test70 match: True\n",
      "test18 match: True\n",
      "test38 match: True\n",
      "test85 match: True\n",
      "test69 match: True\n",
      "train16 match: True\n",
      "test73 match: True\n",
      "train35 match: True\n",
      "train60 match: False\n",
      "train11 match: True\n",
      "test03 match: False\n",
      "train32 match: True\n",
      "train12 match: True\n",
      "test15 match: True\n",
      "train06 match: True\n",
      "train66 match: True\n",
      "test26 match: True\n",
      "test77 match: False\n",
      "test02 match: True\n",
      "test10 match: True\n",
      "train20 match: True\n",
      "test46 match: True\n",
      "train15 match: True\n"
     ]
    },
    {
     "ename": "KeyboardInterrupt",
     "evalue": "",
     "output_type": "error",
     "traceback": [
      "\u001b[0;31m---------------------------------------------------------------------------\u001b[0m",
      "\u001b[0;31mKeyboardInterrupt\u001b[0m                         Traceback (most recent call last)",
      "Cell \u001b[0;32mIn[6], line 5\u001b[0m\n\u001b[1;32m      2\u001b[0m python_wrobel \u001b[38;5;241m=\u001b[39m \u001b[38;5;28mdict\u001b[39m()\n\u001b[1;32m      4\u001b[0m \u001b[38;5;28;01mfor\u001b[39;00m key, value \u001b[38;5;129;01min\u001b[39;00m raw_fhr\u001b[38;5;241m.\u001b[39mitems():\n\u001b[0;32m----> 5\u001b[0m     python_wrobel[key] \u001b[38;5;241m=\u001b[39m \u001b[43mwrobel_baseline\u001b[49m\u001b[43m(\u001b[49m\u001b[43mvalue\u001b[49m\u001b[43m)\u001b[49m\n\u001b[1;32m      6\u001b[0m     \u001b[38;5;28mprint\u001b[39m(\u001b[38;5;124mf\u001b[39m\u001b[38;5;124m'\u001b[39m\u001b[38;5;132;01m{\u001b[39;00mkey\u001b[38;5;132;01m}\u001b[39;00m\u001b[38;5;124m match: \u001b[39m\u001b[38;5;132;01m{\u001b[39;00m(python_wrobel[key]\u001b[38;5;250m \u001b[39m\u001b[38;5;241m==\u001b[39m\u001b[38;5;250m \u001b[39mfhrma_base[key])\u001b[38;5;241m.\u001b[39mall()\u001b[38;5;132;01m}\u001b[39;00m\u001b[38;5;124m'\u001b[39m)\n",
      "Cell \u001b[0;32mIn[5], line 29\u001b[0m, in \u001b[0;36mwrobel_baseline\u001b[0;34m(fhr)\u001b[0m\n\u001b[1;32m     26\u001b[0m     k2 \u001b[38;5;241m=\u001b[39m \u001b[38;5;241m0.25\u001b[39m\n\u001b[1;32m     28\u001b[0m     \u001b[38;5;66;03m# Set baseline to outcome of myriad function\u001b[39;00m\n\u001b[0;32m---> 29\u001b[0m     baseline[i\u001b[38;5;241m-\u001b[39m\u001b[38;5;241m1\u001b[39m] \u001b[38;5;241m=\u001b[39m \u001b[43mmyriad\u001b[49m\u001b[43m(\u001b[49m\u001b[43mx\u001b[49m\u001b[43m,\u001b[49m\u001b[43m \u001b[49m\u001b[43mk2\u001b[49m\u001b[43m)\u001b[49m\n\u001b[1;32m     31\u001b[0m \u001b[38;5;66;03m# Create array of zeros with length of original FHR\u001b[39;00m\n\u001b[1;32m     32\u001b[0m full_baseline \u001b[38;5;241m=\u001b[39m np\u001b[38;5;241m.\u001b[39mzeros(\u001b[38;5;28mlen\u001b[39m(fhr))\n",
      "Cell \u001b[0;32mIn[4], line 20\u001b[0m, in \u001b[0;36mmyriad\u001b[0;34m(x, k2)\u001b[0m\n\u001b[1;32m     18\u001b[0m \u001b[38;5;66;03m# For values of i up to length of myrs, manipulate each value in x, then sum\u001b[39;00m\n\u001b[1;32m     19\u001b[0m \u001b[38;5;28;01mfor\u001b[39;00m i \u001b[38;5;129;01min\u001b[39;00m np\u001b[38;5;241m.\u001b[39marange(\u001b[38;5;241m0\u001b[39m, \u001b[38;5;28mlen\u001b[39m(myrs)):\n\u001b[0;32m---> 20\u001b[0m     myrs[i] \u001b[38;5;241m=\u001b[39m \u001b[38;5;28msum\u001b[39m([math\u001b[38;5;241m.\u001b[39mlog(k2\u001b[38;5;241m+\u001b[39m((f\u001b[38;5;241m-\u001b[39mi\u001b[38;5;241m-\u001b[39mmi)\u001b[38;5;241m*\u001b[39m\u001b[38;5;241m*\u001b[39m\u001b[38;5;241m2\u001b[39m)) \u001b[38;5;28;01mfor\u001b[39;00m f \u001b[38;5;129;01min\u001b[39;00m x])\n\u001b[1;32m     22\u001b[0m \u001b[38;5;66;03m# Get index of minimum\u001b[39;00m\n\u001b[1;32m     23\u001b[0m m \u001b[38;5;241m=\u001b[39m np\u001b[38;5;241m.\u001b[39margmin(myrs)\n",
      "Cell \u001b[0;32mIn[4], line 20\u001b[0m, in \u001b[0;36m<listcomp>\u001b[0;34m(.0)\u001b[0m\n\u001b[1;32m     18\u001b[0m \u001b[38;5;66;03m# For values of i up to length of myrs, manipulate each value in x, then sum\u001b[39;00m\n\u001b[1;32m     19\u001b[0m \u001b[38;5;28;01mfor\u001b[39;00m i \u001b[38;5;129;01min\u001b[39;00m np\u001b[38;5;241m.\u001b[39marange(\u001b[38;5;241m0\u001b[39m, \u001b[38;5;28mlen\u001b[39m(myrs)):\n\u001b[0;32m---> 20\u001b[0m     myrs[i] \u001b[38;5;241m=\u001b[39m \u001b[38;5;28msum\u001b[39m([\u001b[43mmath\u001b[49m\u001b[38;5;241;43m.\u001b[39;49m\u001b[43mlog\u001b[49m\u001b[43m(\u001b[49m\u001b[43mk2\u001b[49m\u001b[38;5;241;43m+\u001b[39;49m\u001b[43m(\u001b[49m\u001b[43m(\u001b[49m\u001b[43mf\u001b[49m\u001b[38;5;241;43m-\u001b[39;49m\u001b[43mi\u001b[49m\u001b[38;5;241;43m-\u001b[39;49m\u001b[43mmi\u001b[49m\u001b[43m)\u001b[49m\u001b[38;5;241;43m*\u001b[39;49m\u001b[38;5;241;43m*\u001b[39;49m\u001b[38;5;241;43m2\u001b[39;49m\u001b[43m)\u001b[49m\u001b[43m)\u001b[49m \u001b[38;5;28;01mfor\u001b[39;00m f \u001b[38;5;129;01min\u001b[39;00m x])\n\u001b[1;32m     22\u001b[0m \u001b[38;5;66;03m# Get index of minimum\u001b[39;00m\n\u001b[1;32m     23\u001b[0m m \u001b[38;5;241m=\u001b[39m np\u001b[38;5;241m.\u001b[39margmin(myrs)\n",
      "\u001b[0;31mKeyboardInterrupt\u001b[0m: "
     ]
    }
   ],
   "source": [
    "# Create dictionary to store results\n",
    "python_wrobel = dict()\n",
    "\n",
    "for key, value in raw_fhr.items():\n",
    "    python_wrobel[key] = wrobel_baseline(value)\n",
    "    print(f'{key} match: {(python_wrobel[key] == fhrma_base[key]).all()}')"
   ]
  },
  {
   "cell_type": "code",
   "execution_count": 7,
   "metadata": {},
   "outputs": [],
   "source": [
    "# Find mean of each record\n",
    "python_df = pd.DataFrame({\n",
    "    'record': python_wrobel.keys(),\n",
    "    'python_mean': [round(np.mean(python_wrobel[i]),10) for i in python_wrobel.keys()]})\n",
    "fhrma_df = pd.DataFrame({\n",
    "    'record': fhrma_base.keys(),\n",
    "    'fhrma_mean': [round(np.mean(fhrma_base[i]),10) for i in fhrma_base.keys()]})\n",
    "\n",
    "# Combine into a single dataframe\n",
    "compare_mean = pd.merge(python_df, fhrma_df, on='record')\n",
    "\n",
    "# Add column with difference in means\n",
    "compare_mean['diff'] = abs(compare_mean['python_mean'] - compare_mean['fhrma_mean'])"
   ]
  },
  {
   "cell_type": "code",
   "execution_count": 8,
   "metadata": {},
   "outputs": [
    {
     "data": {
      "text/html": [
       "<div>\n",
       "<style scoped>\n",
       "    .dataframe tbody tr th:only-of-type {\n",
       "        vertical-align: middle;\n",
       "    }\n",
       "\n",
       "    .dataframe tbody tr th {\n",
       "        vertical-align: top;\n",
       "    }\n",
       "\n",
       "    .dataframe thead th {\n",
       "        text-align: right;\n",
       "    }\n",
       "</style>\n",
       "<table border=\"1\" class=\"dataframe\">\n",
       "  <thead>\n",
       "    <tr style=\"text-align: right;\">\n",
       "      <th></th>\n",
       "      <th>record</th>\n",
       "      <th>python_mean</th>\n",
       "      <th>fhrma_mean</th>\n",
       "      <th>diff</th>\n",
       "    </tr>\n",
       "  </thead>\n",
       "  <tbody>\n",
       "    <tr>\n",
       "      <th>24</th>\n",
       "      <td>test77</td>\n",
       "      <td>145.026184</td>\n",
       "      <td>145.026219</td>\n",
       "      <td>0.000036</td>\n",
       "    </tr>\n",
       "    <tr>\n",
       "      <th>15</th>\n",
       "      <td>train60</td>\n",
       "      <td>158.985294</td>\n",
       "      <td>158.985263</td>\n",
       "      <td>0.000031</td>\n",
       "    </tr>\n",
       "    <tr>\n",
       "      <th>17</th>\n",
       "      <td>test03</td>\n",
       "      <td>117.926308</td>\n",
       "      <td>117.926327</td>\n",
       "      <td>0.000019</td>\n",
       "    </tr>\n",
       "    <tr>\n",
       "      <th>1</th>\n",
       "      <td>test80</td>\n",
       "      <td>142.857543</td>\n",
       "      <td>142.857543</td>\n",
       "      <td>0.000000</td>\n",
       "    </tr>\n",
       "    <tr>\n",
       "      <th>28</th>\n",
       "      <td>test46</td>\n",
       "      <td>138.514170</td>\n",
       "      <td>138.514170</td>\n",
       "      <td>0.000000</td>\n",
       "    </tr>\n",
       "  </tbody>\n",
       "</table>\n",
       "</div>"
      ],
      "text/plain": [
       "     record  python_mean  fhrma_mean      diff\n",
       "24   test77   145.026184  145.026219  0.000036\n",
       "15  train60   158.985294  158.985263  0.000031\n",
       "17   test03   117.926308  117.926327  0.000019\n",
       "1    test80   142.857543  142.857543  0.000000\n",
       "28   test46   138.514170  138.514170  0.000000"
      ]
     },
     "metadata": {},
     "output_type": "display_data"
    },
    {
     "data": {
      "text/plain": [
       "diff\n",
       "True     27\n",
       "False     3\n",
       "Name: count, dtype: int64"
      ]
     },
     "metadata": {},
     "output_type": "display_data"
    },
    {
     "data": {
      "image/png": "[encoded data removed]",
      "text/plain": [
       "<Figure size 640x480 with 1 Axes>"
      ]
     },
     "metadata": {},
     "output_type": "display_data"
    }
   ],
   "source": [
    "# Preview dataframe, starting with records with the greatest difference\n",
    "display(compare_mean.sort_values(by='diff', ascending=False).head())\n",
    "\n",
    "# Record how many are exactly the same\n",
    "display((compare_mean['diff'] == 0).value_counts())\n",
    "\n",
    "# Present in a figure\n",
    "compare_means(compare_mean, 'python_mean', 'fhrma_mean', 'python vs fhrma')"
   ]
  }
 ],
 "metadata": {
  "kernelspec": {
   "display_name": "ctg",
   "language": "python",
   "name": "python3"
  },
  "language_info": {
   "codemirror_mode": {
    "name": "ipython",
    "version": 3
   },
   "file_extension": ".py",
   "mimetype": "text/x-python",
   "name": "python",
   "nbconvert_exporter": "python",
   "pygments_lexer": "ipython3",
   "version": "3.10.13"
  }
 },
 "nbformat": 4,
 "nbformat_minor": 2
}
