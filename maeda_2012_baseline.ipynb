{
 "cells": [
  {
   "cell_type": "markdown",
   "metadata": {},
   "source": [
    "# FHR Baseline from Maeda et al. 2012\n",
    "\n",
    "## Summary\n",
    "\n",
    "This notebook implements the method for FHR baseline calculation from Maeda et al. 2012, based on the MATLAB implemention in the FHRMA package.\n",
    "\n",
    "The paper: [Maeda et al. 2012](https://benthamopen.com/contents/pdf/TOMDJ/TOMDJ-4-28.pdf) - Central Computerized Automatic Fetal Heart Rate Diagnosis with a Rapid and Direct Alarm System\n",
    "\n",
    "This method is **successfully implemented** - all records match between Python and MATLAB.\n",
    "\n",
    "**Observations:**\n",
    "* This method used modes, but that meant the baseline FHR would vary quite notably if the mode changed (as it's not uncommon for it to be a close call between modes). For example, which mode is chosen in a multi-mode situation. I have found examples where FHRMA was the min and examples where it was the max.\n",
    "* The FHRMA/MATLAB implementation sometimes differed from my interpretation of the paper description. I noticed this to be the case for:\n",
    "    * Calculation of mean from all values in bin rather than 5-minute interval values in bin (as I think it makes sense it would be the interval)\n",
    "    * Calculation of fHR for last interval using points from the previous interval to pad to 150 (as I have not found mention of this in the paper - but its not implausible)"
   ]
  },
  {
   "cell_type": "markdown",
   "metadata": {},
   "source": [
    "## Paper description of the method\n",
    "\n",
    "FHR was sampled every 250ms over a 5-minute period, and averaged every 2 seconds to determine 150 FHR (also found 150 uterine contraction data) (as there are 30 x 2 seconds in a minute, so 150 x 2 seconds in 5 minutes). FHR data were counted in intervals of 10 beats per minute (bpm) ranging from 0 to 200 bpm. The data in the interval with the most frequent FHR data was then averaged to determine the FHR baseline. \n",
    "\n",
    "So basically...\n",
    "\n",
    "1. **Find the average of every 2 seconds**\n",
    "\n",
    "2. **Look at data from a five minute period** - this will mean you are looking at a sample of 150 FHR (as each represents average of 2 seconds, and there are 150 x 2 seconds in 5 minutes)\n",
    "\n",
    "3. **Look at frequency of data in bins of 10bpm** - i.e. number of FHR that are 140-149.99, 150-150.99, and so on.\n",
    "\n",
    "4. **Find the most frequent bin** - for example, 140-150 has the most records, then just use the data from that bin\n",
    "\n",
    "5. **Find the average of the heartrates from that bin** - so might get a result like 145.5, or so on. That represents the baseline FHR for that 5 minute portion of the data."
   ]
  },
  {
   "cell_type": "markdown",
   "metadata": {},
   "source": [
    "### MATLAB Implementation\n",
    "\n",
    "Boudet et al. implement this method [in the FHRMA toolbox using MATLAB](https://github.com/utsb-fmm/FHRMA/blob/master/aammaeda.m).\n",
    "\n",
    "They used a function `aamaeda.m` with the relevant excerpt copied below:\n",
    "\n",
    "```\n",
    "sFHR=avgsubsamp(FHR,8);\n",
    "baseline=zeros(1,length(FHR));\n",
    "\n",
    "for win=[0:150:length(sFHR)-151 length(sFHR)-150]\n",
    "    \n",
    "    bins=zeros(1,25);\n",
    "\n",
    "    for i=1:150\n",
    "        bins(ceil(sFHR(win+i)/10))=bins(ceil(sFHR(win+i)/10))+1;\n",
    "    end\n",
    "    [~,bestbins]=max(bins(1:20));\n",
    "    \n",
    "    baseline(win*8+1:win*8+1200)=mean(sFHR( sFHR<=bestbins*10 & sFHR>(bestbins-1)*10 ));\n",
    "\n",
    "end\n",
    "\n",
    "\n",
    "baseline(win*8+1201:length(FHR))=baseline(win*8+1200);\n",
    "```\n",
    "\n",
    "Within that, they use a function `avgsubsamp` for subsampling by average, which is also copied below:\n",
    "\n",
    "```\n",
    "function y=avgsubsamp(x,factor)\n",
    "    y=zeros(1,floor(length(x)/factor));\n",
    "    for i=1:length(y)\n",
    "        y(i)=mean(x((i-1)*factor+1:i*factor));\n",
    "    end\n",
    "end\n",
    "```"
   ]
  },
  {
   "cell_type": "markdown",
   "metadata": {},
   "source": [
    "## Python implementation"
   ]
  },
  {
   "cell_type": "markdown",
   "metadata": {},
   "source": [
    "### Set up"
   ]
  },
  {
   "cell_type": "markdown",
   "metadata": {},
   "source": [
    "Import required packages"
   ]
  },
  {
   "cell_type": "code",
   "execution_count": 1,
   "metadata": {},
   "outputs": [],
   "source": [
    "# Import packages\n",
    "import copy\n",
    "from dataclasses import dataclass\n",
    "import glob\n",
    "from itertools import compress, groupby\n",
    "import matplotlib.pyplot as plt\n",
    "import math\n",
    "import numpy as np\n",
    "import os\n",
    "import pandas as pd\n",
    "from scipy import io\n",
    "from statistics import multimode"
   ]
  },
  {
   "cell_type": "markdown",
   "metadata": {},
   "source": [
    "Define file paths"
   ]
  },
  {
   "cell_type": "code",
   "execution_count": 2,
   "metadata": {},
   "outputs": [],
   "source": [
    "# Define file paths\n",
    "@dataclass(frozen=True)\n",
    "class Paths:\n",
    "    '''Singleton object for storing paths to data and database.'''\n",
    "\n",
    "    clean_fhr = './data/clean_fhr_matlab/'\n",
    "    md_std = './data/MD_std.mat'\n",
    "\n",
    "\n",
    "paths = Paths()"
   ]
  },
  {
   "cell_type": "markdown",
   "metadata": {},
   "source": [
    "Define function for importing all csv files in a directory"
   ]
  },
  {
   "cell_type": "code",
   "execution_count": 3,
   "metadata": {},
   "outputs": [],
   "source": [
    "def import_csv(directory, output_dict):\n",
    "    '''\n",
    "    Import csv files from provided directory and save to output_dict\n",
    "    Inputs:\n",
    "    directory - string, location of csv files\n",
    "    output_dict - dictionary, to save files to\n",
    "    '''\n",
    "    # Get list of .csv files in directory\n",
    "    files = glob.glob(os.path.join(directory, '*.csv'))\n",
    "\n",
    "    # Loop through files in the directory\n",
    "    for file in files:\n",
    "        # Get raw name of record (without path or file type)\n",
    "        name = file.replace(directory, '').replace('.csv', '')\n",
    "        # Import and save to dictionary\n",
    "        output_dict[name] = pd.read_csv(file, header=None)[0].values\n",
    "\n",
    "    return output_dict"
   ]
  },
  {
   "cell_type": "markdown",
   "metadata": {},
   "source": [
    "Load the cleaned FHR data"
   ]
  },
  {
   "cell_type": "code",
   "execution_count": 4,
   "metadata": {},
   "outputs": [],
   "source": [
    "raw_fhr = import_csv(\n",
    "    directory=paths.clean_fhr,\n",
    "    output_dict=dict())"
   ]
  },
  {
   "cell_type": "markdown",
   "metadata": {},
   "source": [
    "Load the results when processed using Maeda's methodology in FHRMA"
   ]
  },
  {
   "cell_type": "code",
   "execution_count": 5,
   "metadata": {},
   "outputs": [],
   "source": [
    "# Load FHRMA version of results\n",
    "md_std = io.loadmat(paths.md_std)\n",
    "\n",
    "# Get array listing filenames (and hence order of the data)\n",
    "fhrma_files = np.concatenate(np.concatenate(md_std['data']['filename']))\n",
    "\n",
    "# Get array with the baseline signal as per Maeda when implemented in FHRMA\n",
    "fhrma_md = np.concatenate(md_std['data']['baseline'])\n",
    "# Convert array into dictionary so each record is accompanied by relevant name\n",
    "fhrma_maeda_base = {\n",
    "    fhrma_files[i].replace('.fhr', ''): \n",
    "    fhrma_md[i][0] for i in range(len(fhrma_files))}"
   ]
  },
  {
   "cell_type": "markdown",
   "metadata": {},
   "source": [
    "### Define function for baseline calculation\n",
    "\n",
    "Steps:\n",
    "\n",
    "1. **Convert to average of every 2 seconds** - In FHRMA, they seperate the FHR into chunks of 8 (i.e. first 8 records, then next 8, then next 8, and so on). They then find the mean of each of those chunks.\n",
    "\n",
    "2. **Find the most common heartrate bin in each 5 minute interval** - We're looking at every 5 minutes / 300 seconds (which equates to 150 of the 2 second results). We sort the heartrates into bins of 10bpm (e.g. 130-140, 140-150, 150-160), then look to see which bin is most common for that 5 minute period. FHRMA then find the mean of all heartrates from that bin across the entire recorded FHR CTG, but I am minded to suggested that this should be the mean of only the heartrates from that bin in the current five minute interval.\n",
    "\n",
    "Note: This doesn't clean FHR beforehand, so could include large periods of 0, and includes values outside of normal."
   ]
  },
  {
   "cell_type": "code",
   "execution_count": 6,
   "metadata": {},
   "outputs": [],
   "source": [
    "def get_baseline(fhr, match_fhrma, show_process=False):\n",
    "    '''\n",
    "    Get FHR baseline using method from Maeda et al. 2012.\n",
    "\n",
    "    Parameters\n",
    "    ----------\n",
    "    fhr : array\n",
    "        Raw FHR sampled at 4Hz\n",
    "    match_fhrma : boolean\n",
    "        Whether to use a method that ensures results match FHRMA implementation\n",
    "        of Maeda's method, or whether to use the method that I currently think\n",
    "        best matches the description/intention in the original paper\n",
    "    show_process : boolean\n",
    "        Whether to print results as move through this process\n",
    "\n",
    "    Return\n",
    "    ------\n",
    "    baseline : array\n",
    "        Array where raw FHR is replaced by the baseline FHR calculated for the\n",
    "        five minute interval which it belonged to\n",
    "    '''\n",
    "    # Create array of zeros of length of fhr, which will amend to store baseline\n",
    "    baseline = [0] * len(fhr)\n",
    "\n",
    "    # Find mean of every 8 records, generating shorter version of FHR (sfhr)\n",
    "    sfhr = []\n",
    "    start=0\n",
    "    end=len(fhr)\n",
    "    step=8\n",
    "    for i in range(start, end, step):\n",
    "        sfhr.append(np.mean(fhr[i:i+step]))\n",
    "\n",
    "    # If there is a remainder when divide length by 8 (i.e. doesn't perfectly\n",
    "    # divide), then drop the final calculated FHR, as it is not from at least 8 data points\n",
    "    if len(fhr) % 8 != 0:\n",
    "        sfhr.pop()\n",
    "\n",
    "    # Print example of results\n",
    "    if show_process:\n",
    "        print(f'First 16 records in raw FHR: {fhr[:16]}')\n",
    "        print(f'First 2 records in shortened FHR (average of each 8): {sfhr[:2]}')\n",
    "\n",
    "    # Split the record into 5 minute intervals (if last less than 5 min, will be \n",
    "    # smaller). Loop through each interval\n",
    "    starts = np.append(np.arange(0, len(sfhr)-150, 150), [len(sfhr)-150])\n",
    "    for i in starts:\n",
    "\n",
    "        # If want to match results in FHRMA, for the final interval, filter to\n",
    "        # the last 5 minutes of the data, even if that overlaps with the\n",
    "        # previous 5 minute segment\n",
    "        if match_fhrma:\n",
    "            current = sfhr[0+i:150+i]\n",
    "            if len(current) < 150:\n",
    "                current = sfhr[-150:]\n",
    "        # Otherwise, allow the last segment to be less than 5 minutes\n",
    "        else:\n",
    "            # Filter data to that 5-minute segment\n",
    "            current = sfhr[0+i:150+i]\n",
    "\n",
    "        # Convert each record into their upper bin boundary (e.g. 149 --> 150)\n",
    "        bins = np.array([math.ceil(x/10)*10 for x in current])\n",
    "        # Restrict to only bins that are between 0 and 200\n",
    "        bins = [x for x in bins if x <= 200]\n",
    "\n",
    "        # Find the most common bin - in multi-mode situations, take minimum\n",
    "        modes = multimode(bins)\n",
    "        most_common = min(modes)\n",
    "        if show_process:\n",
    "            print(modes)\n",
    "            print(most_common)\n",
    "\n",
    "        # If want to match results in FHRMA, filter to records from that bin\n",
    "        # from across the entire CTG\n",
    "        if match_fhrma:\n",
    "            mask = [(x <= most_common) & (x > most_common-10) for x in sfhr]\n",
    "            filtered = list(compress(sfhr, mask))\n",
    "        # Otherwise, filter to records in that bin from only that 5min interval\n",
    "        else:\n",
    "            mask = [(x <= most_common) & (x > most_common-10) for x in current]\n",
    "            filtered = list(compress(current, mask))\n",
    "\n",
    "        # Find mean of those filtered records in that bin\n",
    "        mean = np.mean(filtered)\n",
    "\n",
    "        # Set the records in baseline for that five minute interval to this mean\n",
    "        baseline[(i*8):1200+(i*8)] = [mean] * 1200\n",
    "\n",
    "    # Get the last value from the last interval, and set all subsequent points to that value\n",
    "    baseline[i*8+1200:] = [baseline[i*8+1200-1]]*len(baseline[i*8+1200:])\n",
    "\n",
    "    # Print example of results from final run of that loop above\n",
    "    if show_process:\n",
    "        print(f'First 10 records of one of the intervals: {current[:10]}')\n",
    "        print(f'Conversion of those records to bins: {bins[:10]}')\n",
    "        print(f'Most common bin in the whole 5 minute interval: {most_common}')\n",
    "        print(f'Calculated baseline FHR for that interval: {mean}')\n",
    "\n",
    "    return(baseline)"
   ]
  },
  {
   "cell_type": "code",
   "execution_count": 7,
   "metadata": {},
   "outputs": [
    {
     "data": {
      "text/plain": [
       "array([   0,  150,  300,  450,  600,  750,  900, 1050, 1200, 1350, 1500,\n",
       "       1650, 1800, 1950, 2100, 2250, 2400, 2539])"
      ]
     },
     "execution_count": 7,
     "metadata": {},
     "output_type": "execute_result"
    }
   ],
   "source": [
    "# Load an example...\n",
    "record = 'test04'\n",
    "\n",
    "# FHR signal\n",
    "fhr = pd.read_csv(os.path.join(paths.clean_fhr, f'{record}.csv'),\n",
    "                  header=None)[0].values\n",
    "\n",
    "# Create array of zeros of length of fhr, which will amend to store baseline\n",
    "baseline = [0] * len(fhr)\n",
    "\n",
    "# Find mean of every 8 records, generating shorter version of FHR (sfhr)\n",
    "sfhr = []\n",
    "start=0\n",
    "end=len(fhr)\n",
    "step=8\n",
    "for i in range(start, end, step):\n",
    "    sfhr.append(np.mean(fhr[i:i+step]))\n",
    "\n",
    "# If there is a remainder when divide length by 8 (i.e. doesn't perfectly\n",
    "# divide), then drop the final calculated FHR, as it is not from at least 8 data points\n",
    "if len(fhr) % 8 != 0:\n",
    "    sfhr.pop()\n",
    "\n",
    "# Split the record into 5 minute intervals (if last less than 5 min, will be \n",
    "# smaller). Loop through each interval\n",
    "starts = np.append(np.arange(0, len(sfhr)-150, 150), [len(sfhr)-150])\n",
    "starts"
   ]
  },
  {
   "cell_type": "markdown",
   "metadata": {},
   "source": [
    "### Compare one example to FHRMA"
   ]
  },
  {
   "cell_type": "code",
   "execution_count": 8,
   "metadata": {},
   "outputs": [
    {
     "data": {
      "text/plain": [
       "'Python result:'"
      ]
     },
     "metadata": {},
     "output_type": "display_data"
    },
    {
     "data": {
      "text/plain": [
       "[(125.3006804441638, 4800),\n",
       " (153.65487052485227, 1200),\n",
       " (135.12338322738472, 1200),\n",
       " (144.52495630490108, 2400),\n",
       " (135.12338322738472, 1200),\n",
       " (125.3006804441638, 1200),\n",
       " (135.12338322738472, 6000),\n",
       " (144.52495630490108, 3517)]"
      ]
     },
     "metadata": {},
     "output_type": "display_data"
    },
    {
     "data": {
      "text/plain": [
       "'FHRMA result:'"
      ]
     },
     "metadata": {},
     "output_type": "display_data"
    },
    {
     "data": {
      "text/plain": [
       "[(125.30068044416383, 4800),\n",
       " (153.65487052485227, 1200),\n",
       " (135.1233832273847, 1200),\n",
       " (144.52495630490105, 2400),\n",
       " (135.1233832273847, 1200),\n",
       " (125.30068044416383, 1200),\n",
       " (135.1233832273847, 6000),\n",
       " (144.52495630490105, 3517)]"
      ]
     },
     "metadata": {},
     "output_type": "display_data"
    },
    {
     "name": "stdout",
     "output_type": "stream",
     "text": [
      "Overall mean of each:\n",
      "136.00318412701296\n",
      "136.00318412701287\n",
      "Length of each:\n",
      "21517\n",
      "21517\n"
     ]
    }
   ],
   "source": [
    "# Load an example...\n",
    "record = 'test04'\n",
    "\n",
    "# FHR signal\n",
    "fhr = pd.read_csv(os.path.join(paths.clean_fhr, f'{record}.csv'),\n",
    "                  header=None)[0].values\n",
    "\n",
    "# Results from Python\n",
    "python_result = get_baseline(fhr, match_fhrma=True, show_process=False)\n",
    "\n",
    "# Result from FHRMA\n",
    "fhrma_result = fhrma_maeda_base[record]\n",
    "\n",
    "# Show differences\n",
    "display('Python result:')\n",
    "display([(k, sum(1 for i in g)) for k,g in groupby(python_result)])\n",
    "display('FHRMA result:')\n",
    "display([(k, sum(1 for i in g)) for k,g in groupby(fhrma_result)])\n",
    "\n",
    "print('Overall mean of each:')\n",
    "print(np.mean(python_result))\n",
    "print(np.mean(fhrma_result))\n",
    "\n",
    "print('Length of each:')\n",
    "print(len(python_result))\n",
    "print(len(fhrma_result))"
   ]
  },
  {
   "cell_type": "markdown",
   "metadata": {},
   "source": [
    "### Test on all available FHRMA data and compare against their results\n",
    "\n",
    "For this, I took the overall mean from the baseline record (rather than comparing each of the 5-minute means).\n",
    "\n",
    "First, run all FHR through the baseline function and store results."
   ]
  },
  {
   "cell_type": "code",
   "execution_count": 9,
   "metadata": {},
   "outputs": [],
   "source": [
    "# Create dictionary to store results\n",
    "python_maeda = dict()\n",
    "\n",
    "for key, value in raw_fhr.items():\n",
    "    python_maeda[key] = get_baseline(value, match_fhrma=True, show_process=False)"
   ]
  },
  {
   "cell_type": "markdown",
   "metadata": {},
   "source": [
    "Then find the overall mean of each record and combine the results from python, octave and the FHRMA into a single dataframe."
   ]
  },
  {
   "cell_type": "code",
   "execution_count": 10,
   "metadata": {},
   "outputs": [],
   "source": [
    "# Find mean of each record\n",
    "python_df = pd.DataFrame({\n",
    "    'record': python_maeda.keys(),\n",
    "    'python_mean': [round(np.mean(python_maeda[i]),10) for i in python_maeda.keys()]})\n",
    "fhrma_df = pd.DataFrame({\n",
    "    'record': fhrma_maeda_base.keys(),\n",
    "    'fhrma_mean': [round(np.mean(fhrma_maeda_base[i]),10) for i in fhrma_maeda_base.keys()]})\n",
    "\n",
    "# Combine into a single dataframe\n",
    "compare_mean = pd.merge(python_df, fhrma_df, on='record')\n",
    "\n",
    "# Add column with difference in means\n",
    "compare_mean['diff'] = abs(compare_mean['python_mean'] - compare_mean['fhrma_mean'])"
   ]
  },
  {
   "cell_type": "markdown",
   "metadata": {},
   "source": [
    "Then define a function for displaying the differences."
   ]
  },
  {
   "cell_type": "code",
   "execution_count": 11,
   "metadata": {},
   "outputs": [],
   "source": [
    "def compare_means(df, x, y, title):\n",
    "    '''\n",
    "    Create scatterpol comparing two columns from df.\n",
    "    Inputs:\n",
    "    df - dataframe, to plot from\n",
    "    x - string, name of column for x axis\n",
    "    y - string, name of column for y axis\n",
    "    '''\n",
    "    fig, ax = plt.subplots()\n",
    "    ax.scatter(x=df[x], y=df[y])\n",
    "    plt.xlabel(x)\n",
    "    plt.ylabel(y)\n",
    "    plt.title(title)\n",
    "    plt.grid()\n",
    "    ax.set_box_aspect(1)\n",
    "    plt.show()"
   ]
  },
  {
   "cell_type": "markdown",
   "metadata": {},
   "source": [
    "Compare Python and FHRMA"
   ]
  },
  {
   "cell_type": "code",
   "execution_count": 12,
   "metadata": {},
   "outputs": [
    {
     "data": {
      "text/html": [
       "<div>\n",
       "<style scoped>\n",
       "    .dataframe tbody tr th:only-of-type {\n",
       "        vertical-align: middle;\n",
       "    }\n",
       "\n",
       "    .dataframe tbody tr th {\n",
       "        vertical-align: top;\n",
       "    }\n",
       "\n",
       "    .dataframe thead th {\n",
       "        text-align: right;\n",
       "    }\n",
       "</style>\n",
       "<table border=\"1\" class=\"dataframe\">\n",
       "  <thead>\n",
       "    <tr style=\"text-align: right;\">\n",
       "      <th></th>\n",
       "      <th>record</th>\n",
       "      <th>python_mean</th>\n",
       "      <th>fhrma_mean</th>\n",
       "      <th>diff</th>\n",
       "    </tr>\n",
       "  </thead>\n",
       "  <tbody>\n",
       "    <tr>\n",
       "      <th>0</th>\n",
       "      <td>train28</td>\n",
       "      <td>124.594527</td>\n",
       "      <td>124.594527</td>\n",
       "      <td>0.0</td>\n",
       "    </tr>\n",
       "    <tr>\n",
       "      <th>107</th>\n",
       "      <td>train51</td>\n",
       "      <td>176.449191</td>\n",
       "      <td>176.449191</td>\n",
       "      <td>0.0</td>\n",
       "    </tr>\n",
       "    <tr>\n",
       "      <th>100</th>\n",
       "      <td>train09</td>\n",
       "      <td>172.760367</td>\n",
       "      <td>172.760367</td>\n",
       "      <td>0.0</td>\n",
       "    </tr>\n",
       "    <tr>\n",
       "      <th>101</th>\n",
       "      <td>test87</td>\n",
       "      <td>146.004686</td>\n",
       "      <td>146.004686</td>\n",
       "      <td>0.0</td>\n",
       "    </tr>\n",
       "    <tr>\n",
       "      <th>102</th>\n",
       "      <td>train02</td>\n",
       "      <td>156.746943</td>\n",
       "      <td>156.746943</td>\n",
       "      <td>0.0</td>\n",
       "    </tr>\n",
       "  </tbody>\n",
       "</table>\n",
       "</div>"
      ],
      "text/plain": [
       "      record  python_mean  fhrma_mean  diff\n",
       "0    train28   124.594527  124.594527   0.0\n",
       "107  train51   176.449191  176.449191   0.0\n",
       "100  train09   172.760367  172.760367   0.0\n",
       "101   test87   146.004686  146.004686   0.0\n",
       "102  train02   156.746943  156.746943   0.0"
      ]
     },
     "metadata": {},
     "output_type": "display_data"
    },
    {
     "data": {
      "text/plain": [
       "diff\n",
       "True    156\n",
       "Name: count, dtype: int64"
      ]
     },
     "metadata": {},
     "output_type": "display_data"
    },
    {
     "data": {
      "image/png": "[encoded data removed]",
      "text/plain": [
       "<Figure size 640x480 with 1 Axes>"
      ]
     },
     "metadata": {},
     "output_type": "display_data"
    }
   ],
   "source": [
    "# Preview dataframe, starting with records with the greatest difference\n",
    "display(compare_mean.sort_values(by='diff', ascending=False).head())\n",
    "\n",
    "# Record how many are exactly the same\n",
    "display((compare_mean['diff'] == 0).value_counts())\n",
    "\n",
    "# Present in a figure\n",
    "compare_means(compare_mean, 'python_mean', 'fhrma_mean', 'python vs fhrma')"
   ]
  }
 ],
 "metadata": {
  "kernelspec": {
   "display_name": "ctg",
   "language": "python",
   "name": "python3"
  },
  "language_info": {
   "codemirror_mode": {
    "name": "ipython",
    "version": 3
   },
   "file_extension": ".py",
   "mimetype": "text/x-python",
   "name": "python",
   "nbconvert_exporter": "python",
   "pygments_lexer": "ipython3",
   "version": "3.10.13"
  }
 },
 "nbformat": 4,
 "nbformat_minor": 2
}
