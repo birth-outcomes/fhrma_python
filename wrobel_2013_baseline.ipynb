{
 "cells": [
  {
   "cell_type": "markdown",
   "metadata": {},
   "source": [
    "# FHR Baseline from Wróbel et al. 2013\n",
    "\n",
    "## Summary\n",
    "\n",
    "This notebook implements the method for FHR baseline calculation from Wróbel et al. 2013, based on the MATLAB implementation in the FHRMA package.\n",
    "\n",
    "The paper: [Wróbel et al. 2013](https://doi.org/10.1016/j.bbe.2013.09.004) - Improving fetal heart rate signal interpretation by application of myriad filtering"
   ]
  },
  {
   "cell_type": "markdown",
   "metadata": {},
   "source": [
    "## Paper description of the method\n",
    "\n",
    "This method uses myriad filtering, with the stated benefit being that it does not require interpolation of signal loss segments (although we have already done that for all FHR records here).\n",
    "\n"
   ]
  },
  {
   "cell_type": "markdown",
   "metadata": {},
   "source": [
    "## Python implementation"
   ]
  },
  {
   "cell_type": "markdown",
   "metadata": {},
   "source": [
    "Import required packages"
   ]
  },
  {
   "cell_type": "code",
   "execution_count": 1,
   "metadata": {},
   "outputs": [],
   "source": [
    "import math\n",
    "import numpy as np\n",
    "import pandas as pd\n",
    "import sys"
   ]
  },
  {
   "cell_type": "markdown",
   "metadata": {},
   "source": [
    "Import functions defined elsewhere"
   ]
  },
  {
   "cell_type": "code",
   "execution_count": 2,
   "metadata": {},
   "outputs": [],
   "source": [
    "sys.path.append('/functions')\n",
    "from functions.load_data import load_data\n",
    "from functions.avg_subsample import avg_subsample"
   ]
  },
  {
   "cell_type": "markdown",
   "metadata": {},
   "source": [
    "Import datasets required for running the function and validation"
   ]
  },
  {
   "cell_type": "code",
   "execution_count": 3,
   "metadata": {},
   "outputs": [],
   "source": [
    "raw_fhr, fhrma_base, fhrma_acc, fhrma_dec = load_data(fhrma_path = './data/W_std.mat')"
   ]
  },
  {
   "cell_type": "markdown",
   "metadata": {},
   "source": [
    "Try out method on an example"
   ]
  },
  {
   "cell_type": "code",
   "execution_count": 4,
   "metadata": {},
   "outputs": [],
   "source": [
    "def myriad(x, k2):\n",
    "    '''\n",
    "    Implements myriad filter, based on myriad() in FHRMA\n",
    "\n",
    "    Parameters\n",
    "    ----------\n",
    "    x : array\n",
    "        Subsample of sfhr\n",
    "    k2 : numeric\n",
    "        Not certain.\n",
    "    '''\n",
    "    # Get min and max of x, and create empty list for length of difference \n",
    "    # between the min and the max, plus 1\n",
    "    ma = round(max(x))\n",
    "    mi = round(min(x))\n",
    "    myrs = np.zeros(ma-mi+1)\n",
    "\n",
    "    # For values of i up to length of myrs, manipulate each value in x, then sum\n",
    "    for i in np.arange(0, len(myrs)):\n",
    "        myrs[i] = sum([math.log(k2+((f-i-mi)**2)) for f in x])\n",
    "\n",
    "    # Get index of minimum\n",
    "    m = np.argmin(myrs)\n",
    "\n",
    "    # Add that index to the minimum value of x (plus 1 as Python is 0-indexed)\n",
    "    m = m + mi + 1\n",
    "\n",
    "    return (m)"
   ]
  },
  {
   "cell_type": "code",
   "execution_count": 5,
   "metadata": {},
   "outputs": [],
   "source": [
    "# Load an example\n",
    "fhr = raw_fhr['train28']\n",
    "\n",
    "# Find mean of every 10 records, generating shorter version of FHR (sfhr)\n",
    "sfhr = avg_subsample(fhr, 10)\n",
    "\n",
    "# Create array of zeros with same length of sFHR\n",
    "baseline = np.zeros(len(sfhr))\n",
    "\n",
    "for i in np.arange(1, len(sfhr)+1):\n",
    "    # wins=161 for i <= 161, and wins=i-160 for i > 162\n",
    "    # wine=i+160 for i < len(sfhr)-160, and wine=len(sfhr) for i >= len(sfhr)-160\n",
    "    # No -1 for wine as MATLAB includes the final index but Python wouldn't\n",
    "    wins = max(1, i-160)-1\n",
    "    wine = min(len(sfhr), i+160)\n",
    "\n",
    "    # Filter to that interval in sfhr, and set value of k2\n",
    "    x = sfhr[wins:wine]\n",
    "    k2 = 0.25\n",
    "\n",
    "    # Set baseline to outcome of myriad function\n",
    "    baseline[i-1] = myriad(x, k2)"
   ]
  },
  {
   "cell_type": "code",
   "execution_count": 6,
   "metadata": {},
   "outputs": [],
   "source": [
    "# Create array of zeros with length of original FHR\n",
    "full_baseline = np.zeros(len(fhr))\n",
    "\n",
    "# Get the index of each item in baseline, and find equivalent for full sequence\n",
    "indices = np.arange(0, len(baseline))*10\n",
    "indices[1:]-= 1\n",
    "\n",
    "# Set values\n",
    "full_baseline[indices] = baseline\n",
    "\n",
    "# Perform linear interpolation on the values in between (and not past them)\n",
    "max_index = (max(indices))+1\n",
    "full_baseline[:max_index][full_baseline[:max_index] == 0] = np.nan\n",
    "full_baseline = pd.Series(full_baseline).interpolate(method='linear').values"
   ]
  },
  {
   "cell_type": "code",
   "execution_count": 7,
   "metadata": {},
   "outputs": [
    {
     "data": {
      "text/plain": [
       "17595"
      ]
     },
     "execution_count": 7,
     "metadata": {},
     "output_type": "execute_result"
    }
   ],
   "source": [
    "len(full_baseline)"
   ]
  },
  {
   "cell_type": "code",
   "execution_count": 8,
   "metadata": {},
   "outputs": [
    {
     "data": {
      "text/plain": [
       "array([140. , 140. , 140. , 140. , 140. , 140. , 140. , 140. , 140. ,\n",
       "       140. , 140. , 140. , 140. , 140. , 140. , 140. , 140. , 140. ,\n",
       "       140. , 140. , 140. , 140. , 140. , 140. , 140. , 140. , 140. ,\n",
       "       140. , 140. , 140. , 140. , 140. , 140. , 140. , 140. , 140. ,\n",
       "       140. , 140. , 140. , 140. , 140. , 140. , 140. , 140. , 140. ,\n",
       "       140. , 140. , 140. , 140. , 140. , 139.9, 139.8, 139.7, 139.6,\n",
       "       139.5, 139.4, 139.3, 139.2, 139.1, 139. , 139. ])"
      ]
     },
     "execution_count": 8,
     "metadata": {},
     "output_type": "execute_result"
    }
   ],
   "source": [
    "full_baseline[:61]"
   ]
  },
  {
   "cell_type": "code",
   "execution_count": 9,
   "metadata": {},
   "outputs": [
    {
     "data": {
      "text/plain": [
       "17575    121.0\n",
       "17576    121.0\n",
       "17577    121.0\n",
       "17578    121.0\n",
       "17579    121.0\n",
       "17580      0.0\n",
       "17581      0.0\n",
       "17582      0.0\n",
       "17583      0.0\n",
       "17584      0.0\n",
       "17585      0.0\n",
       "17586      0.0\n",
       "17587      0.0\n",
       "17588      0.0\n",
       "17589      0.0\n",
       "17590      0.0\n",
       "17591      0.0\n",
       "17592      0.0\n",
       "17593      0.0\n",
       "17594      0.0\n",
       "dtype: float64"
      ]
     },
     "execution_count": 9,
     "metadata": {},
     "output_type": "execute_result"
    }
   ],
   "source": [
    "pd.Series(full_baseline)[-20:]"
   ]
  }
 ],
 "metadata": {
  "kernelspec": {
   "display_name": "ctg",
   "language": "python",
   "name": "python3"
  },
  "language_info": {
   "codemirror_mode": {
    "name": "ipython",
    "version": 3
   },
   "file_extension": ".py",
   "mimetype": "text/x-python",
   "name": "python",
   "nbconvert_exporter": "python",
   "pygments_lexer": "ipython3",
   "version": "3.10.13"
  }
 },
 "nbformat": 4,
 "nbformat_minor": 2
}
