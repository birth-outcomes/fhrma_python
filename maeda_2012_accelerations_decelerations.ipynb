{
 "cells": [
  {
   "cell_type": "markdown",
   "metadata": {},
   "source": [
    "# Accelerations and decelerations from Maeda et al. 2012\n",
    "\n",
    "## Summary\n",
    "\n",
    "This notebook implements the method for acceleration and deceleration detection from Maeda et al. 2012, based on the MATLAB implemention in the FHRMA package.\n",
    "\n",
    "The paper: [Maeda et al. 2012](https://benthamopen.com/contents/pdf/TOMDJ/TOMDJ-4-28.pdf) - Central Computerized Automatic Fetal Heart Rate Diagnosis with a Rapid and Direct Alarm System\n",
    "\n",
    "**Observations:**\n",
    "* The FHRMA/MATLAB implementation sometimes differed from my interpretation of the paper description. I noticed this to be the case reference lines in accelerations/decelerations, which are described in the paper but not implemented in the code"
   ]
  },
  {
   "cell_type": "markdown",
   "metadata": {},
   "source": [
    "## Paper description of method\n",
    "\n",
    "* **Reference line** - \"Data-to-data difference in FHR were averaged (F bpm) and added to the baseline data to define the upper reference line (FHR baseline + F/2), and subtracted from the baseline data to define the lower reference line (FHR baseline –F/2).\"\n",
    "* **Deceleration** - \"A transient FHR decrease of more than 15 bpm below the lower reference line lasting longer than 15 seconds was defined as a deceleration. An FHR decrease appearing during transient tachycardia with a nadir of 110 bpm or more was not considered a deceleration but instead a transient recovery to the normal baseline.\"\n",
    "* **Late Deceleration** - \"The DIP SHAPE value was applied to the classification of deceleration, and was calculated by dividing the dip area ((sum of the FHR data in the deceleration) x 2) by ((deceleration amplitude x duration (seconds)) (Fig. 2). A decrease in FHR was defined as late deceleration (LD) if the following four conditions were met within 15 minutes: (1) the lag time between the contraction peak and FHR nadir was longer than 20 seconds in 60 % or more decelerations: (2) the number of deceleration was more than the contraction number – 1: (3) the DIP SHAPE value was less than 0.5: and (4) the dip variability (sum of FHR n – FHR n-1 in the deceleration) was less than 60 bpm). A decrease in FHR was defined as early deceleration (ED) if the DIP SHAPE value was less than 0.5, dip irregularity was less than 60 bpm and the lag time was almost zero.\"\n",
    "* **Variable Deceleration** - \"A decrease in FHR was defined as a variable deceleration (VD) if the DIP SHAPE was greater than 0.6 and dip variability was greater than 60 bpm\"\n",
    "* **Severe variable Deceleration** - A variable deceleration with a nadir heart rate less than 100 bpm and duration longer than 60 seconds was defined as severe variable deceleration (SVD)\n",
    "* **Prolonged Deceleration** - Deceleration lasting longer than 2 minutes\n",
    "* **Acceleration** - A transient rise in FHR of 15 bpm or more above the upper reference line lasting 15 seconds or more , after 30 weeks of pregnancy, was defined as FHR acceleration "
   ]
  },
  {
   "cell_type": "markdown",
   "metadata": {},
   "source": [
    "## MATLAB implementation\n",
    "\n",
    "Boudet et al. implement this method [in the FHRMA toolbox using MATLAB](https://github.com/utsb-fmm/FHRMA/blob/master/aammaeda.m), and this is copied below. First, I have described my understanding of what this function is doing.\n",
    "\n",
    "for accelerations, detect accident...\n",
    "* signal = fhr - baseline\n",
    "* threshold = 15\n",
    "* peaks are where the signal is greater than the threshold\n",
    "* find the start, end and maximum points of those accidents\n",
    "* if segment is longer than 15 seconds (15*4) then it is classed as an accident\n",
    "\n",
    "minus int...\n",
    "* a = outcome of detect accident\n",
    "* f = rerun detect accident but with threshold of 5\n",
    "* removes elements from f that are also in a\n",
    "\n",
    "it does likewise for decelerations, but instead, signal = baseline - fhr.\n",
    "\n",
    "They state that Maeda's method for acceleration and deceleration detection is the same as the standard simple method used in their toolbox.\n",
    "\n",
    "**Note:** This appears to exclude the paper's concept of reference lines, which is ambiguous, but i think might be about finding the average difference between each 2second bpm HR reading and adding that to the 15bpm difference required from baseline\n",
    "\n",
    "```\n",
    "function [acc,dec,falseacc,falsedec]=simpleaddetection(fhr,baseline)\n",
    "\n",
    "acc=detectaccident(fhr-baseline,15);\n",
    "dec=detectaccident(baseline-fhr,15);\n",
    "falseacc=minusint(acc,detectaccident(fhr-baseline,5));\n",
    "falsedec=minusint(dec,detectaccident(baseline-fhr,5));\n",
    "end\n",
    "\n",
    "function accidentsample=detectaccident(sig,thre)\n",
    "\n",
    "peaks=find(sig>thre);\n",
    "accidentsample=zeros(3,0);\n",
    "while ~isempty(peaks)\n",
    "    dacc=find(sig(1:peaks)<0,1,'last');\n",
    "    if isempty(dacc)\n",
    "        dacc=1;\n",
    "    end\n",
    "    facc=find(sig(dacc+1:end)<0,1,'first')+dacc;\n",
    "    if isempty(facc)\n",
    "        facc=length(sig);\n",
    "    end\n",
    "    [~,macc]=max(sig(dacc:facc));\n",
    "    macc=macc+dacc-1;\n",
    "    if facc-dacc>15*4\n",
    "        accidentsample=[accidentsample [dacc;facc;macc]/4];\n",
    "    end   \n",
    "    peaks=peaks(peaks>facc);\n",
    "end\n",
    "end\n",
    "\n",
    "function f=minusint(a,f)\n",
    "\n",
    "for i=1:size(a,2)\n",
    "    n=find(f(1,:)>=a(1,i) &f(2,:)<=a(2,i));\n",
    "    if ~isempty(n)\n",
    "        f=f(:,[1:n-1 n+1:end]);\n",
    "    end\n",
    "end\n",
    "    \n",
    "end\n",
    "```"
   ]
  },
  {
   "cell_type": "markdown",
   "metadata": {},
   "source": [
    "## Python implementation\n",
    "\n",
    "In order to ensure a fair comparison against FHRMA results, this implemention uses:\n",
    "* The FHR baseline from FHRMA\n",
    "* The cleaned FHR signal as from running FHRMA in MATLAB\n",
    "\n",
    "This is as opposed to using the baseline and cleaned FHR signal I generated in Python, which may still be in the process of correcting to ensure a match to FHRMA/MATLAB."
   ]
  },
  {
   "cell_type": "markdown",
   "metadata": {},
   "source": [
    "### Set up\n",
    "\n",
    "Import required packages"
   ]
  },
  {
   "cell_type": "code",
   "execution_count": 1,
   "metadata": {},
   "outputs": [],
   "source": [
    "# Import packages\n",
    "import copy\n",
    "from dataclasses import dataclass\n",
    "import glob\n",
    "from itertools import compress, groupby\n",
    "import matplotlib.pyplot as plt\n",
    "import math\n",
    "import numpy as np\n",
    "import os\n",
    "import pandas as pd\n",
    "from scipy import io\n",
    "from statistics import multimode"
   ]
  },
  {
   "cell_type": "markdown",
   "metadata": {},
   "source": [
    "Define file paths"
   ]
  },
  {
   "cell_type": "code",
   "execution_count": 2,
   "metadata": {},
   "outputs": [],
   "source": [
    "# Define file paths\n",
    "@dataclass(frozen=True)\n",
    "class Paths:\n",
    "    '''Singleton object for storing paths to data and database.'''\n",
    "\n",
    "    clean_fhr = './data/clean_fhr_matlab/'\n",
    "    md_std = './data/MD_std.mat'\n",
    "\n",
    "\n",
    "paths = Paths()"
   ]
  },
  {
   "cell_type": "markdown",
   "metadata": {},
   "source": [
    "Define function for importing all csv files in a directory"
   ]
  },
  {
   "cell_type": "code",
   "execution_count": 3,
   "metadata": {},
   "outputs": [],
   "source": [
    "def import_csv(directory, output_dict):\n",
    "    '''\n",
    "    Import csv files from provided directory and save to output_dict\n",
    "    Inputs:\n",
    "    directory - string, location of csv files\n",
    "    output_dict - dictionary, to save files to\n",
    "    '''\n",
    "    # Get list of .csv files in directory\n",
    "    files = glob.glob(os.path.join(directory, '*.csv'))\n",
    "\n",
    "    # Loop through files in the directory\n",
    "    for file in files:\n",
    "        # Get raw name of record (without path or file type)\n",
    "        name = file.replace(directory, '').replace('.csv', '')\n",
    "        # Import and save to dictionary\n",
    "        output_dict[name] = pd.read_csv(file, header=None)[0].values\n",
    "\n",
    "    return output_dict"
   ]
  },
  {
   "cell_type": "markdown",
   "metadata": {},
   "source": [
    "Load the cleaned FHR data"
   ]
  },
  {
   "cell_type": "code",
   "execution_count": 4,
   "metadata": {},
   "outputs": [],
   "source": [
    "raw_fhr = import_csv(\n",
    "    directory=paths.clean_fhr,\n",
    "    output_dict=dict())"
   ]
  },
  {
   "cell_type": "markdown",
   "metadata": {},
   "source": [
    "Load the baseline, accelerations and decelerations for Maeda et al. 2012 from FHRMA"
   ]
  },
  {
   "cell_type": "code",
   "execution_count": 5,
   "metadata": {},
   "outputs": [],
   "source": [
    "# Load FHRMA version of results\n",
    "md_std = io.loadmat(paths.md_std)\n",
    "\n",
    "# Get array listing filenames (and hence order of the data)\n",
    "fhrma_files = np.concatenate(np.concatenate(md_std['data']['filename']))\n",
    "\n",
    "# Get array with the baseline signal as per Maeda when implemented in FHRMA\n",
    "fhrma_md = np.concatenate(md_std['data']['baseline'])\n",
    "# Convert array into dictionary so each record is accompanied by relevant name\n",
    "fhrma_maeda_base = {\n",
    "    fhrma_files[i].replace('.fhr', ''): \n",
    "    fhrma_md[i][0] for i in range(len(fhrma_files))}\n",
    "\n",
    "# Same for accelerations\n",
    "fhrma_md_acc = np.concatenate(md_std['data']['accelerations'])\n",
    "fhrma_maeda_acc = {\n",
    "    fhrma_files[i].replace('.fhr', ''): \n",
    "    fhrma_md_acc[i] for i in range(len(fhrma_files))}\n",
    "\n",
    "# Same for decelerations\n",
    "fhrma_md_dec = np.concatenate(md_std['data']['decelerations'])\n",
    "fhrma_maeda_dec = {\n",
    "    fhrma_files[i].replace('.fhr', ''): \n",
    "    fhrma_md_dec[i] for i in range(len(fhrma_files))}"
   ]
  },
  {
   "cell_type": "markdown",
   "metadata": {},
   "source": [
    "### Define function for detecting accelerations or decelerations"
   ]
  },
  {
   "cell_type": "code",
   "execution_count": 6,
   "metadata": {},
   "outputs": [],
   "source": [
    "def detect_accident(sig, thre):\n",
    "    '''\n",
    "    Detect accelerations or decelerations by comparing difference betweeen FHR\n",
    "    and FHR baseline against a specified threshold.\n",
    "\n",
    "    Parameters:\n",
    "    -----------\n",
    "    sig: array\n",
    "        Difference between signal and baseline - for accelerations this is\n",
    "        fhr-baseline, and for decelerations this is baseline-fhr\n",
    "    thre: int\n",
    "        Threshold for difference\n",
    "\n",
    "    Outputs:\n",
    "    --------\n",
    "    result: dataframe\n",
    "        Dataframe with the time in seconds where a peak start and began, and \n",
    "        index for the maximum of the peak (and for decelerations, this is\n",
    "        referring to a trough and the max of that trough)\n",
    "    '''\n",
    "    # Create empty list to store result\n",
    "    res = []\n",
    "\n",
    "    # Find points where value is greater than the threshold\n",
    "    peaks = np.argwhere(sig > thre).ravel()\n",
    "\n",
    "    # While we have points in peaks\n",
    "    while len(peaks) > 0:\n",
    "\n",
    "        # Extract all of sig before the first peak\n",
    "        before = sig[:peaks[0]]\n",
    "\n",
    "        # Find index of last point before peak that is < 0\n",
    "        # E.g. For accelerations, last point where FHR is not past baseline\n",
    "        dacc = np.argwhere(before < 0).ravel()\n",
    "        if len(dacc) > 0:\n",
    "            dacc = dacc[-1]\n",
    "        else:\n",
    "            dacc = 0\n",
    "\n",
    "        # Extract all of signal after that point\n",
    "        after = sig[dacc+1:]\n",
    "\n",
    "        # Find index of first point after then that is < 0\n",
    "        # Adding dacc+1 to convert it to actual location in signal (not just after peak)\n",
    "        facc = np.argwhere(after < 0).ravel()\n",
    "        if len(facc > 0):\n",
    "            facc = facc[0] + dacc + 1\n",
    "        else:\n",
    "            facc = len(sig)-1\n",
    "\n",
    "        # Filter to the values between dacc and facc (so array just has values > 0)\n",
    "        interval = sig[dacc+1:facc]\n",
    "\n",
    "        # Find the index of the maximum value in that interval\n",
    "        # Adding dacc+1 to convert it to actual location in signal\n",
    "        macc = np.argmax(interval) + dacc + 1\n",
    "\n",
    "        # Check if length of interval is more than 15 seconds - if so, save result,\n",
    "        # dividing each value by 4 so it is in seconds rather than quarter seconds -\n",
    "        # and by 60 so it is in minutes rather than seconds - and plus 1 so it\n",
    "        # matches the MATLAB results (as that is 1-indexed)\n",
    "        if len(interval) >= 15*4:\n",
    "            res.append([(x+1)/4/60 for x in [dacc, facc, macc]])\n",
    "\n",
    "        # Filter to peaks that fall after interval explored\n",
    "        peaks = peaks[peaks > facc]\n",
    "\n",
    "    # Convert result to dataframe\n",
    "    result = pd.DataFrame(res, columns=['start', 'end', 'max'])\n",
    "\n",
    "    return (result)"
   ]
  },
  {
   "cell_type": "markdown",
   "metadata": {},
   "source": [
    "### Run on all records"
   ]
  },
  {
   "cell_type": "code",
   "execution_count": 7,
   "metadata": {},
   "outputs": [],
   "source": [
    "# Initialise empty to lists to store results\n",
    "acc = []\n",
    "dec = []\n",
    "\n",
    "# Loop through each of the FHR signals\n",
    "for record, fhr in raw_fhr.items():\n",
    "\n",
    "    # Get baseline for that record\n",
    "    baseline = fhrma_maeda_base[record]\n",
    "\n",
    "    # Get results from FHRMA for that record\n",
    "    fhrma_acc = fhrma_maeda_acc[record]\n",
    "    fhrma_dec = fhrma_maeda_dec[record]\n",
    "\n",
    "    # Get accelerations and decelerations using python function above\n",
    "    python_acc = detect_accident(fhr-baseline, 15)[['start', 'end']].to_numpy()\n",
    "    python_dec = detect_accident(baseline-fhr, 15)[['start', 'end']].to_numpy()\n",
    "\n",
    "    # Check if all match\n",
    "    acc_match = np.array_equal(fhrma_acc, python_acc)\n",
    "    dec_match = np.array_equal(fhrma_dec, python_dec)\n",
    "\n",
    "    # Store in results\n",
    "    acc.append([record, fhrma_acc, python_acc, acc_match])\n",
    "    dec.append([record, fhrma_dec, python_dec, dec_match])\n",
    "\n",
    "# Convert to dataframe\n",
    "acc_result = pd.DataFrame(acc, columns=['record', 'fhrma', 'python', 'match'])\n",
    "dec_result = pd.DataFrame(acc, columns=['record', 'fhrma', 'python', 'match'])"
   ]
  },
  {
   "cell_type": "markdown",
   "metadata": {},
   "source": [
    "### Accelerations comparison to FHRMA\n",
    "\n",
    "#### Compare all"
   ]
  },
  {
   "cell_type": "code",
   "execution_count": 8,
   "metadata": {},
   "outputs": [
    {
     "data": {
      "text/html": [
       "<div>\n",
       "<style scoped>\n",
       "    .dataframe tbody tr th:only-of-type {\n",
       "        vertical-align: middle;\n",
       "    }\n",
       "\n",
       "    .dataframe tbody tr th {\n",
       "        vertical-align: top;\n",
       "    }\n",
       "\n",
       "    .dataframe thead th {\n",
       "        text-align: right;\n",
       "    }\n",
       "</style>\n",
       "<table border=\"1\" class=\"dataframe\">\n",
       "  <thead>\n",
       "    <tr style=\"text-align: right;\">\n",
       "      <th></th>\n",
       "      <th>record</th>\n",
       "      <th>fhrma</th>\n",
       "      <th>python</th>\n",
       "      <th>match</th>\n",
       "    </tr>\n",
       "  </thead>\n",
       "  <tbody>\n",
       "    <tr>\n",
       "      <th>0</th>\n",
       "      <td>train28</td>\n",
       "      <td>[[9.9125, 11.091666666666667], [13.325, 14.779...</td>\n",
       "      <td>[[9.9125, 11.091666666666667], [13.325, 14.779...</td>\n",
       "      <td>True</td>\n",
       "    </tr>\n",
       "    <tr>\n",
       "      <th>1</th>\n",
       "      <td>test80</td>\n",
       "      <td>[[6.470833333333333, 9.054166666666667], [14.6...</td>\n",
       "      <td>[[6.470833333333333, 9.054166666666667], [14.6...</td>\n",
       "      <td>True</td>\n",
       "    </tr>\n",
       "    <tr>\n",
       "      <th>2</th>\n",
       "      <td>test68</td>\n",
       "      <td>[[0.004166666666666667, 5.033333333333333], [8...</td>\n",
       "      <td>[[0.004166666666666667, 5.033333333333333], [8...</td>\n",
       "      <td>True</td>\n",
       "    </tr>\n",
       "    <tr>\n",
       "      <th>3</th>\n",
       "      <td>train04</td>\n",
       "      <td>[[4.125, 5.491666666666666], [7.3625, 10.50416...</td>\n",
       "      <td>[[4.125, 5.491666666666666], [7.3625, 10.50416...</td>\n",
       "      <td>True</td>\n",
       "    </tr>\n",
       "    <tr>\n",
       "      <th>4</th>\n",
       "      <td>train31</td>\n",
       "      <td>[[19.225, 19.591666666666665], [20.325, 20.904...</td>\n",
       "      <td>[[19.225, 19.591666666666665], [20.325, 20.904...</td>\n",
       "      <td>True</td>\n",
       "    </tr>\n",
       "  </tbody>\n",
       "</table>\n",
       "</div>"
      ],
      "text/plain": [
       "    record                                              fhrma  \\\n",
       "0  train28  [[9.9125, 11.091666666666667], [13.325, 14.779...   \n",
       "1   test80  [[6.470833333333333, 9.054166666666667], [14.6...   \n",
       "2   test68  [[0.004166666666666667, 5.033333333333333], [8...   \n",
       "3  train04  [[4.125, 5.491666666666666], [7.3625, 10.50416...   \n",
       "4  train31  [[19.225, 19.591666666666665], [20.325, 20.904...   \n",
       "\n",
       "                                              python  match  \n",
       "0  [[9.9125, 11.091666666666667], [13.325, 14.779...   True  \n",
       "1  [[6.470833333333333, 9.054166666666667], [14.6...   True  \n",
       "2  [[0.004166666666666667, 5.033333333333333], [8...   True  \n",
       "3  [[4.125, 5.491666666666666], [7.3625, 10.50416...   True  \n",
       "4  [[19.225, 19.591666666666665], [20.325, 20.904...   True  "
      ]
     },
     "execution_count": 8,
     "metadata": {},
     "output_type": "execute_result"
    }
   ],
   "source": [
    "acc_result.head()"
   ]
  },
  {
   "cell_type": "code",
   "execution_count": 9,
   "metadata": {},
   "outputs": [
    {
     "data": {
      "text/plain": [
       "match\n",
       "True    156\n",
       "Name: count, dtype: int64"
      ]
     },
     "execution_count": 9,
     "metadata": {},
     "output_type": "execute_result"
    }
   ],
   "source": [
    "acc_result['match'].value_counts()"
   ]
  },
  {
   "cell_type": "code",
   "execution_count": 10,
   "metadata": {},
   "outputs": [],
   "source": [
    "def compare_means(df, x, y, title):\n",
    "    '''\n",
    "    Create scatterpol comparing two columns from df.\n",
    "    Inputs:\n",
    "    df - dataframe, to plot from\n",
    "    x - string, name of column for x axis\n",
    "    y - string, name of column for y axis\n",
    "    '''\n",
    "    fig, ax = plt.subplots()\n",
    "    ax.scatter(x=df[x], y=df[y])\n",
    "    plt.xlabel(x)\n",
    "    plt.ylabel(y)\n",
    "    plt.title(title)\n",
    "    plt.grid()\n",
    "    ax.set_box_aspect(1)\n",
    "    plt.show()"
   ]
  },
  {
   "cell_type": "code",
   "execution_count": 11,
   "metadata": {},
   "outputs": [
    {
     "data": {
      "text/plain": [
       "acc_count_diff\n",
       "0    156\n",
       "Name: count, dtype: int64"
      ]
     },
     "metadata": {},
     "output_type": "display_data"
    },
    {
     "data": {
      "image/png": "[encoded data removed]",
      "text/plain": [
       "<Figure size 640x480 with 1 Axes>"
      ]
     },
     "metadata": {},
     "output_type": "display_data"
    }
   ],
   "source": [
    "# Get number of accelerations for each record\n",
    "acc_result['fhrma_acc_count'] = [len(x) for x in acc_result['fhrma']]\n",
    "acc_result['python_acc_count'] = [len(x) for x in acc_result['python']]\n",
    "\n",
    "# Show difference\n",
    "acc_result['acc_count_diff'] = acc_result['python_acc_count'] - acc_result['fhrma_acc_count']\n",
    "display(acc_result['acc_count_diff'].value_counts())\n",
    "\n",
    "# Plot comparison\n",
    "compare_means(acc_result, 'fhrma_acc_count', 'python_acc_count',\n",
    "              'Number of detected accelerations')"
   ]
  },
  {
   "cell_type": "code",
   "execution_count": 12,
   "metadata": {},
   "outputs": [],
   "source": [
    "def find_length(arr):\n",
    "    '''\n",
    "    Find the length of each detected acceleration and save to array\n",
    "\n",
    "    Parameters:\n",
    "    -----------\n",
    "    arr : array\n",
    "        Array with pairs of start and stop times for acceleration or deceleration\n",
    "\n",
    "    Returns:\n",
    "    --------\n",
    "    lengths : array\n",
    "        Array with length of each acceleration or deceleration\n",
    "    '''\n",
    "    lengths = []\n",
    "    for row in np.arange(0, len(arr)):\n",
    "        lengths.append(arr[row][1] - arr[row][0])\n",
    "    return(lengths)"
   ]
  },
  {
   "cell_type": "code",
   "execution_count": 13,
   "metadata": {},
   "outputs": [
    {
     "data": {
      "text/plain": [
       "acc_total_diff\n",
       "0.0    156\n",
       "Name: count, dtype: int64"
      ]
     },
     "metadata": {},
     "output_type": "display_data"
    },
    {
     "data": {
      "image/png": "[encoded data removed]",
      "text/plain": [
       "<Figure size 640x480 with 1 Axes>"
      ]
     },
     "metadata": {},
     "output_type": "display_data"
    }
   ],
   "source": [
    "# Find lengths of each of the accelerations and decelerations\n",
    "acc_result['fhrma_acc_length'] = [find_length(x) for x in acc_result['fhrma']]\n",
    "acc_result['python_acc_length'] = [find_length(x) for x in acc_result['python']]\n",
    "\n",
    "# Get total length for each\n",
    "acc_result['fhrma_acc_total'] = [sum(x) for x in acc_result['fhrma_acc_length']]\n",
    "acc_result['python_acc_total'] = [sum(x) for x in acc_result['python_acc_length']]\n",
    "\n",
    "# Get difference in total length\n",
    "acc_result['acc_total_diff'] = acc_result['python_acc_total'] - acc_result['fhrma_acc_total']\n",
    "display(acc_result['acc_total_diff'].value_counts())\n",
    "\n",
    "# Plot comparison\n",
    "compare_means(acc_result, 'fhrma_acc_total', 'python_acc_total',\n",
    "              'Length of detected accelerations')"
   ]
  },
  {
   "cell_type": "markdown",
   "metadata": {},
   "source": [
    "### Decelerations\n",
    "\n",
    "#### Compare all"
   ]
  },
  {
   "cell_type": "code",
   "execution_count": 14,
   "metadata": {},
   "outputs": [
    {
     "data": {
      "text/html": [
       "<div>\n",
       "<style scoped>\n",
       "    .dataframe tbody tr th:only-of-type {\n",
       "        vertical-align: middle;\n",
       "    }\n",
       "\n",
       "    .dataframe tbody tr th {\n",
       "        vertical-align: top;\n",
       "    }\n",
       "\n",
       "    .dataframe thead th {\n",
       "        text-align: right;\n",
       "    }\n",
       "</style>\n",
       "<table border=\"1\" class=\"dataframe\">\n",
       "  <thead>\n",
       "    <tr style=\"text-align: right;\">\n",
       "      <th></th>\n",
       "      <th>record</th>\n",
       "      <th>fhrma</th>\n",
       "      <th>python</th>\n",
       "      <th>match</th>\n",
       "    </tr>\n",
       "  </thead>\n",
       "  <tbody>\n",
       "    <tr>\n",
       "      <th>0</th>\n",
       "      <td>train28</td>\n",
       "      <td>[[9.9125, 11.091666666666667], [13.325, 14.779...</td>\n",
       "      <td>[[9.9125, 11.091666666666667], [13.325, 14.779...</td>\n",
       "      <td>True</td>\n",
       "    </tr>\n",
       "    <tr>\n",
       "      <th>1</th>\n",
       "      <td>test80</td>\n",
       "      <td>[[6.470833333333333, 9.054166666666667], [14.6...</td>\n",
       "      <td>[[6.470833333333333, 9.054166666666667], [14.6...</td>\n",
       "      <td>True</td>\n",
       "    </tr>\n",
       "    <tr>\n",
       "      <th>2</th>\n",
       "      <td>test68</td>\n",
       "      <td>[[0.004166666666666667, 5.033333333333333], [8...</td>\n",
       "      <td>[[0.004166666666666667, 5.033333333333333], [8...</td>\n",
       "      <td>True</td>\n",
       "    </tr>\n",
       "    <tr>\n",
       "      <th>3</th>\n",
       "      <td>train04</td>\n",
       "      <td>[[4.125, 5.491666666666666], [7.3625, 10.50416...</td>\n",
       "      <td>[[4.125, 5.491666666666666], [7.3625, 10.50416...</td>\n",
       "      <td>True</td>\n",
       "    </tr>\n",
       "    <tr>\n",
       "      <th>4</th>\n",
       "      <td>train31</td>\n",
       "      <td>[[19.225, 19.591666666666665], [20.325, 20.904...</td>\n",
       "      <td>[[19.225, 19.591666666666665], [20.325, 20.904...</td>\n",
       "      <td>True</td>\n",
       "    </tr>\n",
       "  </tbody>\n",
       "</table>\n",
       "</div>"
      ],
      "text/plain": [
       "    record                                              fhrma  \\\n",
       "0  train28  [[9.9125, 11.091666666666667], [13.325, 14.779...   \n",
       "1   test80  [[6.470833333333333, 9.054166666666667], [14.6...   \n",
       "2   test68  [[0.004166666666666667, 5.033333333333333], [8...   \n",
       "3  train04  [[4.125, 5.491666666666666], [7.3625, 10.50416...   \n",
       "4  train31  [[19.225, 19.591666666666665], [20.325, 20.904...   \n",
       "\n",
       "                                              python  match  \n",
       "0  [[9.9125, 11.091666666666667], [13.325, 14.779...   True  \n",
       "1  [[6.470833333333333, 9.054166666666667], [14.6...   True  \n",
       "2  [[0.004166666666666667, 5.033333333333333], [8...   True  \n",
       "3  [[4.125, 5.491666666666666], [7.3625, 10.50416...   True  \n",
       "4  [[19.225, 19.591666666666665], [20.325, 20.904...   True  "
      ]
     },
     "execution_count": 14,
     "metadata": {},
     "output_type": "execute_result"
    }
   ],
   "source": [
    "dec_result.head()"
   ]
  },
  {
   "cell_type": "code",
   "execution_count": 15,
   "metadata": {},
   "outputs": [
    {
     "data": {
      "text/plain": [
       "match\n",
       "True    156\n",
       "Name: count, dtype: int64"
      ]
     },
     "execution_count": 15,
     "metadata": {},
     "output_type": "execute_result"
    }
   ],
   "source": [
    "dec_result['match'].value_counts()"
   ]
  },
  {
   "cell_type": "code",
   "execution_count": 16,
   "metadata": {},
   "outputs": [
    {
     "data": {
      "text/html": [
       "<div>\n",
       "<style scoped>\n",
       "    .dataframe tbody tr th:only-of-type {\n",
       "        vertical-align: middle;\n",
       "    }\n",
       "\n",
       "    .dataframe tbody tr th {\n",
       "        vertical-align: top;\n",
       "    }\n",
       "\n",
       "    .dataframe thead th {\n",
       "        text-align: right;\n",
       "    }\n",
       "</style>\n",
       "<table border=\"1\" class=\"dataframe\">\n",
       "  <thead>\n",
       "    <tr style=\"text-align: right;\">\n",
       "      <th></th>\n",
       "      <th>record</th>\n",
       "      <th>fhrma</th>\n",
       "      <th>python</th>\n",
       "      <th>match</th>\n",
       "    </tr>\n",
       "  </thead>\n",
       "  <tbody>\n",
       "  </tbody>\n",
       "</table>\n",
       "</div>"
      ],
      "text/plain": [
       "Empty DataFrame\n",
       "Columns: [record, fhrma, python, match]\n",
       "Index: []"
      ]
     },
     "execution_count": 16,
     "metadata": {},
     "output_type": "execute_result"
    }
   ],
   "source": [
    "dec_result[dec_result['match'] == False]"
   ]
  },
  {
   "cell_type": "code",
   "execution_count": 17,
   "metadata": {},
   "outputs": [
    {
     "data": {
      "text/plain": [
       "dec_count_diff\n",
       "0    156\n",
       "Name: count, dtype: int64"
      ]
     },
     "metadata": {},
     "output_type": "display_data"
    },
    {
     "data": {
      "image/png": "[encoded data removed]",
      "text/plain": [
       "<Figure size 640x480 with 1 Axes>"
      ]
     },
     "metadata": {},
     "output_type": "display_data"
    }
   ],
   "source": [
    "# Get number of accelerations for each record\n",
    "dec_result['fhrma_dec_count'] = [len(x) for x in dec_result['fhrma']]\n",
    "dec_result['python_dec_count'] = [len(x) for x in dec_result['python']]\n",
    "\n",
    "# Show difference\n",
    "dec_result['dec_count_diff'] = dec_result['python_dec_count'] - dec_result['fhrma_dec_count']\n",
    "display(dec_result['dec_count_diff'].value_counts())\n",
    "\n",
    "# Plot comparison\n",
    "compare_means(dec_result, 'fhrma_dec_count', 'python_dec_count',\n",
    "              'Number of detected decelerations')"
   ]
  },
  {
   "cell_type": "code",
   "execution_count": 18,
   "metadata": {},
   "outputs": [
    {
     "data": {
      "text/plain": [
       "dec_total_diff\n",
       "0.0    156\n",
       "Name: count, dtype: int64"
      ]
     },
     "metadata": {},
     "output_type": "display_data"
    },
    {
     "data": {
      "image/png": "[encoded data removed]",
      "text/plain": [
       "<Figure size 640x480 with 1 Axes>"
      ]
     },
     "metadata": {},
     "output_type": "display_data"
    }
   ],
   "source": [
    "# Find lengths of each of the accelerations and decelerations\n",
    "dec_result['fhrma_dec_length'] = [find_length(x) for x in dec_result['fhrma']]\n",
    "dec_result['python_dec_length'] = [find_length(x) for x in dec_result['python']]\n",
    "\n",
    "# Get total length for each\n",
    "dec_result['fhrma_dec_total'] = [sum(x) for x in dec_result['fhrma_dec_length']]\n",
    "dec_result['python_dec_total'] = [sum(x) for x in dec_result['python_dec_length']]\n",
    "\n",
    "# Get difference in total length\n",
    "dec_result['dec_total_diff'] = dec_result['python_dec_total'] - dec_result['fhrma_dec_total']\n",
    "display(dec_result['dec_total_diff'].value_counts())\n",
    "\n",
    "# Plot comparison\n",
    "compare_means(dec_result, 'fhrma_dec_total', 'python_dec_total',\n",
    "              'Length of detected decelerations')"
   ]
  }
 ],
 "metadata": {
  "kernelspec": {
   "display_name": "ctg",
   "language": "python",
   "name": "python3"
  },
  "language_info": {
   "codemirror_mode": {
    "name": "ipython",
    "version": 3
   },
   "file_extension": ".py",
   "mimetype": "text/x-python",
   "name": "python",
   "nbconvert_exporter": "python",
   "pygments_lexer": "ipython3",
   "version": "3.10.13"
  }
 },
 "nbformat": 4,
 "nbformat_minor": 2
}
