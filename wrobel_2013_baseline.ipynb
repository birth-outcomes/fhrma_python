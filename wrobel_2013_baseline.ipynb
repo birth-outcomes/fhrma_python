{
 "cells": [
  {
   "cell_type": "markdown",
   "metadata": {},
   "source": [
    "# FHR Baseline from Wróbel et al. 2013\n",
    "\n",
    "## Summary\n",
    "\n",
    "This notebook implements the method for FHR baseline calculation from Wróbel et al. 2013, based on the MATLAB implementation in the FHRMA package.\n",
    "\n",
    "The paper: [Wróbel et al. 2013](https://doi.org/10.1016/j.bbe.2013.09.004) - Improving fetal heart rate signal interpretation by application of myriad filtering"
   ]
  },
  {
   "cell_type": "markdown",
   "metadata": {},
   "source": [
    "## Paper description of the method\n",
    "\n",
    "This method uses myriad filtering, with the stated benefit being that it does not require interpolation of signal loss segments (although we have already done that for all FHR records here).\n",
    "\n"
   ]
  },
  {
   "cell_type": "markdown",
   "metadata": {},
   "source": [
    "## Python implementation"
   ]
  },
  {
   "cell_type": "markdown",
   "metadata": {},
   "source": [
    "Import required packages"
   ]
  },
  {
   "cell_type": "code",
   "execution_count": 1,
   "metadata": {},
   "outputs": [],
   "source": [
    "import math\n",
    "import numpy as np\n",
    "import pandas as pd\n",
    "import sys"
   ]
  },
  {
   "cell_type": "markdown",
   "metadata": {},
   "source": [
    "Import functions defined elsewhere"
   ]
  },
  {
   "cell_type": "code",
   "execution_count": 2,
   "metadata": {},
   "outputs": [],
   "source": [
    "sys.path.append('/functions')\n",
    "from functions.load_data import load_data\n",
    "from functions.avg_subsample import avg_subsample"
   ]
  },
  {
   "cell_type": "markdown",
   "metadata": {},
   "source": [
    "Import datasets required for running the function and validation"
   ]
  },
  {
   "cell_type": "code",
   "execution_count": 3,
   "metadata": {},
   "outputs": [],
   "source": [
    "raw_fhr, fhrma_base, fhrma_acc, fhrma_dec = load_data(fhrma_path = './data/W_std.mat')"
   ]
  },
  {
   "cell_type": "markdown",
   "metadata": {},
   "source": [
    "Define functions for calculating baseline"
   ]
  },
  {
   "cell_type": "code",
   "execution_count": 4,
   "metadata": {},
   "outputs": [],
   "source": [
    "def myriad(x, k2):\n",
    "    '''\n",
    "    Implements myriad filter, based on myriad() in FHRMA\n",
    "\n",
    "    Parameters\n",
    "    ----------\n",
    "    x : array\n",
    "        Subsample of sfhr\n",
    "    k2 : numeric\n",
    "        Not certain.\n",
    "    '''\n",
    "    # Get min and max of x, and create empty list for length of difference \n",
    "    # between the min and the max, plus 1\n",
    "    ma = round(max(x))\n",
    "    mi = round(min(x))\n",
    "    myrs = np.zeros(ma-mi+1)\n",
    "\n",
    "    # For values of i up to length of myrs, manipulate each value in x, then sum\n",
    "    for i in np.arange(0, len(myrs)):\n",
    "        myrs[i] = sum([math.log(k2+((f-i-mi)**2)) for f in x])\n",
    "\n",
    "    # Get index of minimum\n",
    "    m = np.argmin(myrs)\n",
    "\n",
    "    # Add that index to the minimum value of x (plus 1 as Python is 0-indexed)\n",
    "    m = m + mi + 1\n",
    "\n",
    "    return (m)"
   ]
  },
  {
   "cell_type": "code",
   "execution_count": 5,
   "metadata": {},
   "outputs": [],
   "source": [
    "def wrobel_baseline(fhr):\n",
    "    '''\n",
    "    Calculate FHR baseline using method from Wrobel et al. 2013, as implemented\n",
    "    in MATLAB in the FHRMA toolbox\n",
    "\n",
    "    Parameters\n",
    "    ----------\n",
    "    fhr : array\n",
    "        Cleaned FHR\n",
    "    '''\n",
    "    # Find mean of every 10 records, generating shorter version of FHR (sfhr)\n",
    "    sfhr = avg_subsample(fhr, 10)\n",
    "\n",
    "    # Create array of zeros with same length of sFHR\n",
    "    baseline = np.zeros(len(sfhr))\n",
    "\n",
    "    for i in np.arange(1, len(sfhr)+1):\n",
    "        # wins=161 for i <= 161, and wins=i-160 for i > 162\n",
    "        # wine=i+160 for i < len(sfhr)-160, and wine=len(sfhr) for i >= len(sfhr)-160\n",
    "        # No -1 for wine as MATLAB includes the final index but Python wouldn't\n",
    "        wins = max(1, i-160)-1\n",
    "        wine = min(len(sfhr), i+160)\n",
    "\n",
    "        # Filter to that interval in sfhr, and set value of k2\n",
    "        x = sfhr[wins:wine]\n",
    "        k2 = 0.25\n",
    "\n",
    "        # Set baseline to outcome of myriad function\n",
    "        baseline[i-1] = myriad(x, k2)\n",
    "\n",
    "    # Create array of zeros with length of original FHR\n",
    "    full_baseline = np.zeros(len(fhr))\n",
    "\n",
    "    # Get the index of each item in baseline, and find equivalent for full sequence\n",
    "    indices = np.arange(0, len(baseline))*10\n",
    "    indices[1:]-= 1\n",
    "\n",
    "    # Set values\n",
    "    full_baseline[indices] = baseline\n",
    "\n",
    "    # Perform linear interpolation on the values in between (and not past them)\n",
    "    max_index = (max(indices))+1\n",
    "    full_baseline[:max_index][full_baseline[:max_index] == 0] = np.nan\n",
    "    full_baseline = pd.Series(full_baseline).interpolate(method='linear').values\n",
    "\n",
    "    return(full_baseline)"
   ]
  },
  {
   "cell_type": "markdown",
   "metadata": {},
   "source": [
    "Compare a few examples against fhrma"
   ]
  },
  {
   "cell_type": "code",
   "execution_count": 6,
   "metadata": {},
   "outputs": [
    {
     "data": {
      "text/plain": [
       "True    17595\n",
       "Name: count, dtype: int64"
      ]
     },
     "execution_count": 6,
     "metadata": {},
     "output_type": "execute_result"
    }
   ],
   "source": [
    "python_result = wrobel_baseline(raw_fhr['train28'])\n",
    "fhrma_result = fhrma_base['train28']\n",
    "pd.Series(python_result == fhrma_result).value_counts()"
   ]
  },
  {
   "cell_type": "code",
   "execution_count": 7,
   "metadata": {},
   "outputs": [
    {
     "data": {
      "text/plain": [
       "True    24944\n",
       "Name: count, dtype: int64"
      ]
     },
     "execution_count": 7,
     "metadata": {},
     "output_type": "execute_result"
    }
   ],
   "source": [
    "python_result = wrobel_baseline(raw_fhr['test01'])\n",
    "fhrma_result = fhrma_base['test01']\n",
    "pd.Series(python_result == fhrma_result).value_counts()"
   ]
  }
 ],
 "metadata": {
  "kernelspec": {
   "display_name": "ctg",
   "language": "python",
   "name": "python3"
  },
  "language_info": {
   "codemirror_mode": {
    "name": "ipython",
    "version": 3
   },
   "file_extension": ".py",
   "mimetype": "text/x-python",
   "name": "python",
   "nbconvert_exporter": "python",
   "pygments_lexer": "ipython3",
   "version": "3.10.13"
  }
 },
 "nbformat": 4,
 "nbformat_minor": 2
}
