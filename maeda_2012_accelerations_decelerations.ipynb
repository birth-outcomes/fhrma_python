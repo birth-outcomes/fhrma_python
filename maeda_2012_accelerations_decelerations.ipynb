{
 "cells": [
  {
   "cell_type": "markdown",
   "metadata": {},
   "source": [
    "# Accelerations and decelerations from Maeda et al. 2012\n",
    "\n",
    "## Summary\n",
    "\n",
    "This notebook implements the method for acceleration and deceleration detection from Maeda et al. 2012, based on the MATLAB implemention in the FHRMA package.\n",
    "\n",
    "In the [MATLAB code for Maeda](https://github.com/utsb-fmm/FHRMA/blob/master/aammaeda.m), they state that their basic acceleration and deceleration function - used when there is nothing described in a paper - is the same as the function described in Maeda et al - *\"Maeda's method with its method for acceleration/deceleration detection which is also the standard simple method for acceleration/deceleration detection\"*. However, in their [2020 paper](https://doi.org/10.1016/j.softx.2020.100428), they state that Maeda's method was not described clearly enough to be reprogrammed. Based on the description in the paper (as below), it appears very similar (>15bpm for >15sec), except it does not incorporate the concept of reference lines.\n",
    "\n",
    "The paper: [Maeda et al. 2012](https://benthamopen.com/contents/pdf/TOMDJ/TOMDJ-4-28.pdf) - Central Computerized Automatic Fetal Heart Rate Diagnosis with a Rapid and Direct Alarm System\n",
    "\n",
    "This method is **successfully implemented** - all records match between Python and MATLAB.\n",
    "\n",
    "**Observations:**\n",
    "* The FHRMA/MATLAB implementation sometimes differed from my interpretation of the paper description. I noticed this to be the case reference lines in accelerations/decelerations, which are described in the paper but not implemented in the code. The description of reference lines in the paper is ambiguous, but I think it might be about finding the average difference between each 2second bpm HR reading and adding that to the 15bpm difference required from baseline"
   ]
  },
  {
   "cell_type": "markdown",
   "metadata": {},
   "source": [
    "## Paper description of method\n",
    "\n",
    "Basic acceleration and deceleration detection:\n",
    "* **Reference line** - \"Data-to-data difference in FHR were averaged (F bpm) and added to the baseline data to define the upper reference line (FHR baseline + F/2), and subtracted from the baseline data to define the lower reference line (FHR baseline –F/2).\"\n",
    "* **Deceleration** - \"A transient FHR decrease of more than 15 bpm below the lower reference line lasting longer than 15 seconds was defined as a deceleration. An FHR decrease appearing during transient tachycardia with a nadir of 110 bpm or more was not considered a deceleration but instead a transient recovery to the normal baseline.\"\n",
    "* **Acceleration** - A transient rise in FHR of 15 bpm or more above the upper reference line lasting 15 seconds or more , after 30 weeks of pregnancy, was defined as FHR acceleration\n",
    "\n",
    "More nuanced:\n",
    "* **Late Deceleration** - \"The DIP SHAPE value was applied to the classification of deceleration, and was calculated by dividing the dip area ((sum of the FHR data in the deceleration) x 2) by ((deceleration amplitude x duration (seconds)) (Fig. 2). A decrease in FHR was defined as late deceleration (LD) if the following four conditions were met within 15 minutes: (1) the lag time between the contraction peak and FHR nadir was longer than 20 seconds in 60 % or more decelerations: (2) the number of deceleration was more than the contraction number – 1: (3) the DIP SHAPE value was less than 0.5: and (4) the dip variability (sum of FHR n – FHR n-1 in the deceleration) was less than 60 bpm). A decrease in FHR was defined as early deceleration (ED) if the DIP SHAPE value was less than 0.5, dip irregularity was less than 60 bpm and the lag time was almost zero.\"\n",
    "* **Variable Deceleration** - \"A decrease in FHR was defined as a variable deceleration (VD) if the DIP SHAPE was greater than 0.6 and dip variability was greater than 60 bpm\"\n",
    "* **Severe variable Deceleration** - A variable deceleration with a nadir heart rate less than 100 bpm and duration longer than 60 seconds was defined as severe variable deceleration (SVD)\n",
    "* **Prolonged Deceleration** - Deceleration lasting longer than 2 minutes"
   ]
  },
  {
   "cell_type": "markdown",
   "metadata": {},
   "source": [
    "## Python implementation\n",
    "\n",
    "In order to ensure a fair comparison against FHRMA results, this implemention uses:\n",
    "* The FHR baseline from FHRMA\n",
    "* The cleaned FHR signal as from running FHRMA in MATLAB\n",
    "\n",
    "This is as opposed to using the baseline and cleaned FHR signal I generated in Python, which may still be in the process of correcting to ensure a match to FHRMA/MATLAB."
   ]
  },
  {
   "cell_type": "markdown",
   "metadata": {},
   "source": [
    "### Set up\n",
    "\n",
    "Import required packages"
   ]
  },
  {
   "cell_type": "code",
   "execution_count": 1,
   "metadata": {},
   "outputs": [],
   "source": [
    "# Import packages\n",
    "import copy\n",
    "from dataclasses import dataclass\n",
    "import glob\n",
    "from itertools import compress, groupby\n",
    "import matplotlib.pyplot as plt\n",
    "import math\n",
    "import numpy as np\n",
    "import os\n",
    "import pandas as pd\n",
    "from scipy import io\n",
    "from statistics import multimode\n",
    "import sys"
   ]
  },
  {
   "cell_type": "markdown",
   "metadata": {},
   "source": [
    "Define file paths"
   ]
  },
  {
   "cell_type": "code",
   "execution_count": 2,
   "metadata": {},
   "outputs": [],
   "source": [
    "# Define file paths\n",
    "@dataclass(frozen=True)\n",
    "class Paths:\n",
    "    '''Singleton object for storing paths to data and database.'''\n",
    "\n",
    "    clean_fhr = './data/clean_fhr_matlab/'\n",
    "    md_std = './data/MD_std.mat'\n",
    "\n",
    "\n",
    "paths = Paths()"
   ]
  },
  {
   "cell_type": "markdown",
   "metadata": {},
   "source": [
    "Define function for importing all csv files in a directory"
   ]
  },
  {
   "cell_type": "code",
   "execution_count": 3,
   "metadata": {},
   "outputs": [],
   "source": [
    "def import_csv(directory, output_dict):\n",
    "    '''\n",
    "    Import csv files from provided directory and save to output_dict\n",
    "    Inputs:\n",
    "    directory - string, location of csv files\n",
    "    output_dict - dictionary, to save files to\n",
    "    '''\n",
    "    # Get list of .csv files in directory\n",
    "    files = glob.glob(os.path.join(directory, '*.csv'))\n",
    "\n",
    "    # Loop through files in the directory\n",
    "    for file in files:\n",
    "        # Get raw name of record (without path or file type)\n",
    "        name = file.replace(directory, '').replace('.csv', '')\n",
    "        # Import and save to dictionary\n",
    "        output_dict[name] = pd.read_csv(file, header=None)[0].values\n",
    "\n",
    "    return output_dict"
   ]
  },
  {
   "cell_type": "markdown",
   "metadata": {},
   "source": [
    "Load the cleaned FHR data"
   ]
  },
  {
   "cell_type": "code",
   "execution_count": 4,
   "metadata": {},
   "outputs": [],
   "source": [
    "raw_fhr = import_csv(\n",
    "    directory=paths.clean_fhr,\n",
    "    output_dict=dict())"
   ]
  },
  {
   "cell_type": "markdown",
   "metadata": {},
   "source": [
    "Load the baseline, accelerations and decelerations for Maeda et al. 2012 from FHRMA"
   ]
  },
  {
   "cell_type": "code",
   "execution_count": 5,
   "metadata": {},
   "outputs": [],
   "source": [
    "# Load FHRMA version of results\n",
    "md_std = io.loadmat(paths.md_std)\n",
    "\n",
    "# Get array listing filenames (and hence order of the data)\n",
    "fhrma_files = np.concatenate(np.concatenate(md_std['data']['filename']))\n",
    "\n",
    "# Get array with the baseline signal as per Maeda when implemented in FHRMA\n",
    "fhrma_md = np.concatenate(md_std['data']['baseline'])\n",
    "# Convert array into dictionary so each record is accompanied by relevant name\n",
    "fhrma_maeda_base = {\n",
    "    fhrma_files[i].replace('.fhr', ''): \n",
    "    fhrma_md[i][0] for i in range(len(fhrma_files))}\n",
    "\n",
    "# Same for accelerations\n",
    "fhrma_md_acc = np.concatenate(md_std['data']['accelerations'])\n",
    "fhrma_maeda_acc = {\n",
    "    fhrma_files[i].replace('.fhr', ''): \n",
    "    fhrma_md_acc[i] for i in range(len(fhrma_files))}\n",
    "\n",
    "# Same for decelerations\n",
    "fhrma_md_dec = np.concatenate(md_std['data']['decelerations'])\n",
    "fhrma_maeda_dec = {\n",
    "    fhrma_files[i].replace('.fhr', ''): \n",
    "    fhrma_md_dec[i] for i in range(len(fhrma_files))}"
   ]
  },
  {
   "cell_type": "markdown",
   "metadata": {},
   "source": [
    "### Define functions"
   ]
  },
  {
   "cell_type": "code",
   "execution_count": 6,
   "metadata": {},
   "outputs": [],
   "source": [
    "# Import function for simple acceleration and deceleration detection\n",
    "sys.path.append('/functions')\n",
    "from functions.simple_acc_dec_detection import detect_accident"
   ]
  },
  {
   "cell_type": "code",
   "execution_count": 7,
   "metadata": {},
   "outputs": [],
   "source": [
    "def run_on_records(fhrma_dict, type):\n",
    "    '''\n",
    "    Run the detect_accident function on all the FHR records, either detecting\n",
    "    accelerations or decelerations\n",
    "\n",
    "    Parameters:\n",
    "    -----------\n",
    "    fhrma_dict: dictionary\n",
    "        Dictionary with either acceleration or deceleration results from FHRMA\n",
    "    type : string\n",
    "        Either 'acc' (accelerations) or 'dec' (decelerations)\n",
    "\n",
    "    Outputs:\n",
    "    --------\n",
    "    result: dataframe\n",
    "        Dataframe with the time in seconds where a peak start and began for\n",
    "        each record\n",
    "    '''\n",
    "    # Initialise list for storing results\n",
    "    res = []\n",
    "\n",
    "    # Loop through each of the FHR signals\n",
    "    for record, fhr in raw_fhr.items():\n",
    "\n",
    "        # Get baseline for that record\n",
    "        baseline = fhrma_maeda_base[record]\n",
    "\n",
    "        # Get results from FHRMA for that record\n",
    "        fhrma_res = fhrma_dict[record]\n",
    "\n",
    "        # Find accelerations or decelerations\n",
    "        if type == 'acc':\n",
    "            python_res = detect_accident(\n",
    "                fhr-baseline, 15)[['start', 'end']].to_numpy()\n",
    "        elif type == 'dec':\n",
    "            python_res = detect_accident(\n",
    "                baseline-fhr, 15)[['start', 'end']].to_numpy()\n",
    "\n",
    "        # Check if all the elements match\n",
    "        match = np.array_equal(fhrma_res, python_res)\n",
    "\n",
    "        # Count number of accelerations or decelerations found\n",
    "\n",
    "        # Get length of each of the accelerations or decelerations\n",
    "\n",
    "        # Store in results\n",
    "        res.append([record, fhrma_res, python_res, match])\n",
    "    \n",
    "    # Convert to dataframe\n",
    "    result = pd.DataFrame(res, columns=['record', 'fhrma', 'python', 'match'])\n",
    "\n",
    "    return (result)"
   ]
  },
  {
   "cell_type": "code",
   "execution_count": 8,
   "metadata": {},
   "outputs": [],
   "source": [
    "def compare_means(df, x, y, title):\n",
    "    '''\n",
    "    Create scatterpol comparing two columns from df.\n",
    "\n",
    "    Parameters:\n",
    "    -----------\n",
    "    df : dataframe\n",
    "        Dataframe to create plot from\n",
    "    x : string\n",
    "        Name of column for x axis\n",
    "    y : string\n",
    "        Name of column for y axis\n",
    "    title : string\n",
    "        Title for the figure\n",
    "    '''\n",
    "    fig, ax = plt.subplots()\n",
    "    ax.scatter(x=df[x], y=df[y])\n",
    "    plt.xlabel(x)\n",
    "    plt.ylabel(y)\n",
    "    plt.title(title)\n",
    "    plt.grid()\n",
    "    ax.set_box_aspect(1)\n",
    "    plt.show()"
   ]
  },
  {
   "cell_type": "code",
   "execution_count": 9,
   "metadata": {},
   "outputs": [],
   "source": [
    "def find_length(arr):\n",
    "    '''\n",
    "    Find the length of each acceleration or deceleration and save to array\n",
    "\n",
    "    Parameters:\n",
    "    -----------\n",
    "    arr : array\n",
    "        Array with pairs of start and stop times for acceleration or deceleration\n",
    "\n",
    "    Returns:\n",
    "    --------\n",
    "    lengths : array\n",
    "        Array with length of each acceleration or deceleration\n",
    "    '''\n",
    "    lengths = []\n",
    "    for row in np.arange(0, len(arr)):\n",
    "        lengths.append(arr[row][1] - arr[row][0])\n",
    "    return(lengths)"
   ]
  },
  {
   "cell_type": "code",
   "execution_count": 10,
   "metadata": {},
   "outputs": [],
   "source": [
    "def validation_against_fhrma(result, type):\n",
    "    '''\n",
    "    Conduct a series of tests that compare FHRMA and Python results in the\n",
    "    provided dataframe\n",
    "\n",
    "    Parameters\n",
    "    ----------\n",
    "    result : dataframe\n",
    "        Dataframe containing FHRMA and Python results for each record\n",
    "    type : string\n",
    "        Either 'accelerations' or 'decelerations'\n",
    "    '''\n",
    "    # Get number of acc/dec for each record\n",
    "    result['fhrma_count'] = [len(x) for x in result['fhrma']]\n",
    "    result['python_count'] = [len(x) for x in result['python']]\n",
    "\n",
    "    # Show difference\n",
    "    result['count_diff'] = result['python_count'] - result['fhrma_count']\n",
    "    display(result['count_diff'].value_counts())\n",
    "\n",
    "    # Plot comparison\n",
    "    compare_means(result, 'fhrma_count', 'python_count',\n",
    "                f'Number of detected {type}')\n",
    "\n",
    "    # Find lengths of each of the accelerations and decelerations\n",
    "    result['fhrma_length'] = [find_length(x) for x in result['fhrma']]\n",
    "    result['python_length'] = [find_length(x) for x in result['python']]\n",
    "\n",
    "    # Get total length for each\n",
    "    result['fhrma_total'] = [sum(x) for x in result['fhrma_length']]\n",
    "    result['python_total'] = [sum(x) for x in result['python_length']]\n",
    "\n",
    "    # Get difference in total length\n",
    "    result['total_diff'] = result['python_total'] - result['fhrma_total']\n",
    "    display(result['total_diff'].value_counts())\n",
    "\n",
    "    # Plot comparison\n",
    "    compare_means(result, 'fhrma_total', 'python_total',\n",
    "                f'Total length of detected {type}')"
   ]
  },
  {
   "cell_type": "markdown",
   "metadata": {},
   "source": [
    "### Run function on all records and compare against FHRMA\n",
    "\n",
    "#### Accelerations"
   ]
  },
  {
   "cell_type": "code",
   "execution_count": 11,
   "metadata": {},
   "outputs": [
    {
     "data": {
      "text/html": [
       "<div>\n",
       "<style scoped>\n",
       "    .dataframe tbody tr th:only-of-type {\n",
       "        vertical-align: middle;\n",
       "    }\n",
       "\n",
       "    .dataframe tbody tr th {\n",
       "        vertical-align: top;\n",
       "    }\n",
       "\n",
       "    .dataframe thead th {\n",
       "        text-align: right;\n",
       "    }\n",
       "</style>\n",
       "<table border=\"1\" class=\"dataframe\">\n",
       "  <thead>\n",
       "    <tr style=\"text-align: right;\">\n",
       "      <th></th>\n",
       "      <th>record</th>\n",
       "      <th>fhrma</th>\n",
       "      <th>python</th>\n",
       "      <th>match</th>\n",
       "    </tr>\n",
       "  </thead>\n",
       "  <tbody>\n",
       "    <tr>\n",
       "      <th>0</th>\n",
       "      <td>train28</td>\n",
       "      <td>[[9.9125, 11.091666666666667], [13.325, 14.779...</td>\n",
       "      <td>[[9.9125, 11.091666666666667], [13.325, 14.779...</td>\n",
       "      <td>True</td>\n",
       "    </tr>\n",
       "    <tr>\n",
       "      <th>1</th>\n",
       "      <td>test80</td>\n",
       "      <td>[[6.470833333333333, 9.054166666666667], [14.6...</td>\n",
       "      <td>[[6.470833333333333, 9.054166666666667], [14.6...</td>\n",
       "      <td>True</td>\n",
       "    </tr>\n",
       "    <tr>\n",
       "      <th>2</th>\n",
       "      <td>test68</td>\n",
       "      <td>[[0.004166666666666667, 5.033333333333333], [8...</td>\n",
       "      <td>[[0.004166666666666667, 5.033333333333333], [8...</td>\n",
       "      <td>True</td>\n",
       "    </tr>\n",
       "    <tr>\n",
       "      <th>3</th>\n",
       "      <td>train04</td>\n",
       "      <td>[[4.125, 5.491666666666666], [7.3625, 10.50416...</td>\n",
       "      <td>[[4.125, 5.491666666666666], [7.3625, 10.50416...</td>\n",
       "      <td>True</td>\n",
       "    </tr>\n",
       "    <tr>\n",
       "      <th>4</th>\n",
       "      <td>train31</td>\n",
       "      <td>[[19.225, 19.591666666666665], [20.325, 20.904...</td>\n",
       "      <td>[[19.225, 19.591666666666665], [20.325, 20.904...</td>\n",
       "      <td>True</td>\n",
       "    </tr>\n",
       "  </tbody>\n",
       "</table>\n",
       "</div>"
      ],
      "text/plain": [
       "    record                                              fhrma  \\\n",
       "0  train28  [[9.9125, 11.091666666666667], [13.325, 14.779...   \n",
       "1   test80  [[6.470833333333333, 9.054166666666667], [14.6...   \n",
       "2   test68  [[0.004166666666666667, 5.033333333333333], [8...   \n",
       "3  train04  [[4.125, 5.491666666666666], [7.3625, 10.50416...   \n",
       "4  train31  [[19.225, 19.591666666666665], [20.325, 20.904...   \n",
       "\n",
       "                                              python  match  \n",
       "0  [[9.9125, 11.091666666666667], [13.325, 14.779...   True  \n",
       "1  [[6.470833333333333, 9.054166666666667], [14.6...   True  \n",
       "2  [[0.004166666666666667, 5.033333333333333], [8...   True  \n",
       "3  [[4.125, 5.491666666666666], [7.3625, 10.50416...   True  \n",
       "4  [[19.225, 19.591666666666665], [20.325, 20.904...   True  "
      ]
     },
     "execution_count": 11,
     "metadata": {},
     "output_type": "execute_result"
    }
   ],
   "source": [
    "acc_result = run_on_records(fhrma_maeda_acc, 'acc')\n",
    "acc_result.head()"
   ]
  },
  {
   "cell_type": "code",
   "execution_count": 12,
   "metadata": {},
   "outputs": [
    {
     "data": {
      "text/plain": [
       "count_diff\n",
       "0    156\n",
       "Name: count, dtype: int64"
      ]
     },
     "metadata": {},
     "output_type": "display_data"
    },
    {
     "data": {
      "image/png": "[encoded data removed]",
      "text/plain": [
       "<Figure size 640x480 with 1 Axes>"
      ]
     },
     "metadata": {},
     "output_type": "display_data"
    },
    {
     "data": {
      "text/plain": [
       "total_diff\n",
       "0.0    156\n",
       "Name: count, dtype: int64"
      ]
     },
     "metadata": {},
     "output_type": "display_data"
    },
    {
     "data": {
      "image/png": "[encoded data removed]",
      "text/plain": [
       "<Figure size 640x480 with 1 Axes>"
      ]
     },
     "metadata": {},
     "output_type": "display_data"
    }
   ],
   "source": [
    "validation_against_fhrma(acc_result, 'accelerations')"
   ]
  },
  {
   "cell_type": "markdown",
   "metadata": {},
   "source": [
    "#### Decelerations"
   ]
  },
  {
   "cell_type": "code",
   "execution_count": 13,
   "metadata": {},
   "outputs": [
    {
     "data": {
      "text/html": [
       "<div>\n",
       "<style scoped>\n",
       "    .dataframe tbody tr th:only-of-type {\n",
       "        vertical-align: middle;\n",
       "    }\n",
       "\n",
       "    .dataframe tbody tr th {\n",
       "        vertical-align: top;\n",
       "    }\n",
       "\n",
       "    .dataframe thead th {\n",
       "        text-align: right;\n",
       "    }\n",
       "</style>\n",
       "<table border=\"1\" class=\"dataframe\">\n",
       "  <thead>\n",
       "    <tr style=\"text-align: right;\">\n",
       "      <th></th>\n",
       "      <th>record</th>\n",
       "      <th>fhrma</th>\n",
       "      <th>python</th>\n",
       "      <th>match</th>\n",
       "    </tr>\n",
       "  </thead>\n",
       "  <tbody>\n",
       "    <tr>\n",
       "      <th>0</th>\n",
       "      <td>train28</td>\n",
       "      <td>[[45.5875, 45.979166666666664], [46.0, 47.6666...</td>\n",
       "      <td>[[45.5875, 45.979166666666664], [46.0, 47.6666...</td>\n",
       "      <td>True</td>\n",
       "    </tr>\n",
       "    <tr>\n",
       "      <th>1</th>\n",
       "      <td>test80</td>\n",
       "      <td>[[63.8625, 65.23333333333333], [65.3875, 66.02...</td>\n",
       "      <td>[[63.8625, 65.23333333333333], [65.3875, 66.02...</td>\n",
       "      <td>True</td>\n",
       "    </tr>\n",
       "    <tr>\n",
       "      <th>2</th>\n",
       "      <td>test68</td>\n",
       "      <td>[[60.07083333333333, 60.4], [63.09583333333333...</td>\n",
       "      <td>[[60.07083333333333, 60.4], [63.09583333333333...</td>\n",
       "      <td>True</td>\n",
       "    </tr>\n",
       "    <tr>\n",
       "      <th>3</th>\n",
       "      <td>train04</td>\n",
       "      <td>[[30.0, 30.579166666666666], [30.825, 31.55416...</td>\n",
       "      <td>[[30.0, 30.579166666666666], [30.825, 31.55416...</td>\n",
       "      <td>True</td>\n",
       "    </tr>\n",
       "    <tr>\n",
       "      <th>4</th>\n",
       "      <td>train31</td>\n",
       "      <td>[[0.004166666666666667, 1.2541666666666667], [...</td>\n",
       "      <td>[[0.004166666666666667, 1.2541666666666667], [...</td>\n",
       "      <td>True</td>\n",
       "    </tr>\n",
       "  </tbody>\n",
       "</table>\n",
       "</div>"
      ],
      "text/plain": [
       "    record                                              fhrma  \\\n",
       "0  train28  [[45.5875, 45.979166666666664], [46.0, 47.6666...   \n",
       "1   test80  [[63.8625, 65.23333333333333], [65.3875, 66.02...   \n",
       "2   test68  [[60.07083333333333, 60.4], [63.09583333333333...   \n",
       "3  train04  [[30.0, 30.579166666666666], [30.825, 31.55416...   \n",
       "4  train31  [[0.004166666666666667, 1.2541666666666667], [...   \n",
       "\n",
       "                                              python  match  \n",
       "0  [[45.5875, 45.979166666666664], [46.0, 47.6666...   True  \n",
       "1  [[63.8625, 65.23333333333333], [65.3875, 66.02...   True  \n",
       "2  [[60.07083333333333, 60.4], [63.09583333333333...   True  \n",
       "3  [[30.0, 30.579166666666666], [30.825, 31.55416...   True  \n",
       "4  [[0.004166666666666667, 1.2541666666666667], [...   True  "
      ]
     },
     "execution_count": 13,
     "metadata": {},
     "output_type": "execute_result"
    }
   ],
   "source": [
    "dec_result = run_on_records(fhrma_maeda_dec, 'dec')\n",
    "dec_result.head()"
   ]
  },
  {
   "cell_type": "code",
   "execution_count": 14,
   "metadata": {},
   "outputs": [
    {
     "data": {
      "text/plain": [
       "count_diff\n",
       "0    156\n",
       "Name: count, dtype: int64"
      ]
     },
     "metadata": {},
     "output_type": "display_data"
    },
    {
     "data": {
      "image/png": "[encoded data removed]",
      "text/plain": [
       "<Figure size 640x480 with 1 Axes>"
      ]
     },
     "metadata": {},
     "output_type": "display_data"
    },
    {
     "data": {
      "text/plain": [
       "total_diff\n",
       "0.0    156\n",
       "Name: count, dtype: int64"
      ]
     },
     "metadata": {},
     "output_type": "display_data"
    },
    {
     "data": {
      "image/png": "[encoded data removed]",
      "text/plain": [
       "<Figure size 640x480 with 1 Axes>"
      ]
     },
     "metadata": {},
     "output_type": "display_data"
    }
   ],
   "source": [
    "validation_against_fhrma(dec_result, 'decelerations')"
   ]
  }
 ],
 "metadata": {
  "kernelspec": {
   "display_name": "ctg",
   "language": "python",
   "name": "python3"
  },
  "language_info": {
   "codemirror_mode": {
    "name": "ipython",
    "version": 3
   },
   "file_extension": ".py",
   "mimetype": "text/x-python",
   "name": "python",
   "nbconvert_exporter": "python",
   "pygments_lexer": "ipython3",
   "version": "3.10.13"
  }
 },
 "nbformat": 4,
 "nbformat_minor": 2
}
